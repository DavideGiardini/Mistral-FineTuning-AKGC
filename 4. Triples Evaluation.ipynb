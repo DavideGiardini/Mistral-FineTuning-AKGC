{
  "nbformat": 4,
  "nbformat_minor": 0,
  "metadata": {
    "colab": {
      "provenance": []
    },
    "kernelspec": {
      "name": "python3",
      "display_name": "Python 3"
    },
    "language_info": {
      "name": "python"
    }
  },
  "cells": [
    {
      "cell_type": "code",
      "execution_count": null,
      "metadata": {
        "colab": {
          "base_uri": "https://localhost:8080/"
        },
        "id": "_fzzgYfvfALM",
        "outputId": "a1f8b46e-48fc-46b4-ac6a-655906fe0ea1"
      },
      "outputs": [
        {
          "output_type": "stream",
          "name": "stdout",
          "text": [
            "Collecting Levenshtein\n",
            "  Downloading Levenshtein-0.25.1-cp310-cp310-manylinux_2_17_x86_64.manylinux2014_x86_64.whl.metadata (3.3 kB)\n",
            "Collecting rapidfuzz<4.0.0,>=3.8.0 (from Levenshtein)\n",
            "  Downloading rapidfuzz-3.9.7-cp310-cp310-manylinux_2_17_x86_64.manylinux2014_x86_64.whl.metadata (12 kB)\n",
            "Downloading Levenshtein-0.25.1-cp310-cp310-manylinux_2_17_x86_64.manylinux2014_x86_64.whl (177 kB)\n",
            "\u001b[2K   \u001b[90m━━━━━━━━━━━━━━━━━━━━━━━━━━━━━━━━━━━━━━━━\u001b[0m \u001b[32m177.4/177.4 kB\u001b[0m \u001b[31m1.6 MB/s\u001b[0m eta \u001b[36m0:00:00\u001b[0m\n",
            "\u001b[?25hDownloading rapidfuzz-3.9.7-cp310-cp310-manylinux_2_17_x86_64.manylinux2014_x86_64.whl (3.4 MB)\n",
            "\u001b[2K   \u001b[90m━━━━━━━━━━━━━━━━━━━━━━━━━━━━━━━━━━━━━━━━\u001b[0m \u001b[32m3.4/3.4 MB\u001b[0m \u001b[31m20.7 MB/s\u001b[0m eta \u001b[36m0:00:00\u001b[0m\n",
            "\u001b[?25hInstalling collected packages: rapidfuzz, Levenshtein\n",
            "Successfully installed Levenshtein-0.25.1 rapidfuzz-3.9.7\n"
          ]
        }
      ],
      "source": [
        "%pip install Levenshtein"
      ]
    },
    {
      "cell_type": "code",
      "source": [
        "import re\n",
        "import Levenshtein"
      ],
      "metadata": {
        "id": "fmdfb5ebfEd_"
      },
      "execution_count": null,
      "outputs": []
    },
    {
      "cell_type": "markdown",
      "source": [
        "# Writing the necessary functions"
      ],
      "metadata": {
        "id": "7NvDizJRfRKT"
      }
    },
    {
      "cell_type": "code",
      "source": [
        "# One of the graph database contains the codes of the states as entities. Since this was not specified in the prompt, the base LLM extracted the full name of the states.\n",
        "# We are not going to count this as an error (since we did not provide the instruction explicitely)\n",
        "# This dictionary is going to be used to transform each proper name of the states into their code\n",
        "\n",
        "# prompt: Write a python dictionary in which the keys are all the states of the United States and the value is their corresponding ufficial codes. Example: {\"california\": \"CA\", ...}\n",
        "\n",
        "us_state_abbrev = {\n",
        "    'Alabama': 'AL',\n",
        "    'Alaska': 'AK',\n",
        "    'Arizona': 'AZ',\n",
        "    'Arkansas': 'AR',\n",
        "    'California': 'CA',\n",
        "    'Colorado': 'CO',\n",
        "    'Connecticut': 'CT',\n",
        "    'Delaware': 'DE',\n",
        "    'Florida': 'FL',\n",
        "    'Georgia': 'GA',\n",
        "    'Hawaii': 'HI',\n",
        "    'Idaho': 'ID',\n",
        "    'Illinois': 'IL',\n",
        "    'Indiana': 'IN',\n",
        "    'Iowa': 'IA',\n",
        "    'Kansas': 'KS',\n",
        "    'Kentucky': 'KY',\n",
        "    'Louisiana': 'LA',\n",
        "    'Maine': 'ME',\n",
        "    'Maryland': 'MD',\n",
        "    'Massachusetts': 'MA',\n",
        "    'Michigan': 'MI',\n",
        "    'Minnesota': 'MN',\n",
        "    'Mississippi': 'MS',\n",
        "    'Missouri': 'MO',\n",
        "    'Montana': 'MT',\n",
        "    'Nebraska': 'NE',\n",
        "    'Nevada': 'NV',\n",
        "    'New Hampshire': 'NH',\n",
        "    'New Jersey': 'NJ',\n",
        "    'New Mexico': 'NM',\n",
        "    'New York': 'NY',\n",
        "    'North Carolina': 'NC',\n",
        "    'North Dakota': 'ND',\n",
        "    'Ohio': 'OH',\n",
        "    'Oklahoma': 'OK',\n",
        "    'Oregon': 'OR',\n",
        "    'Pennsylvania': 'PA',\n",
        "    'Rhode Island': 'RI',\n",
        "    'South Carolina': 'SC',\n",
        "    'South Dakota': 'SD',\n",
        "    'Tennessee': 'TN',\n",
        "    'Texas': 'TX',\n",
        "    'Utah': 'UT',\n",
        "    'Vermont': 'VT',\n",
        "    'Virginia': 'VA',\n",
        "    'Washington': 'WA',\n",
        "    'West Virginia': 'WV',\n",
        "    'Wisconsin': 'WI',\n",
        "    'Wyoming': 'WY'\n",
        "}\n",
        "\n",
        "us_state_abbrev_lower = {k.lower(): v.lower() for k, v in us_state_abbrev.items()}"
      ],
      "metadata": {
        "id": "QQx0DXoNfUr8"
      },
      "execution_count": null,
      "outputs": []
    },
    {
      "cell_type": "code",
      "source": [
        "# regex function to remove from a string all the spaces that are not inside round or rectangular brackets\n",
        "\n",
        "def remove_spaces_outside_brackets(text):\n",
        "  pattern = r'\\s+(?![^\\(\\)\\[\\]]*[\\)\\]])'\n",
        "  return re.sub(pattern, '', text)"
      ],
      "metadata": {
        "id": "vS1fuO7TfUpc"
      },
      "execution_count": null,
      "outputs": []
    },
    {
      "cell_type": "code",
      "source": [
        "# Splits triples from the ground truth responses\n",
        "def extract_triples(text):\n",
        "  text = remove_spaces_outside_brackets(text).lower()\n",
        "  pattern = r'\\(.*?\\)-\\[.*?\\]->\\(.*?\\)'\n",
        "  return list(set(re.findall(pattern, text)))\n",
        "\n",
        "# Splits triples from the responses generated by the LLM\n",
        "def extract_triples_from_responses(text):\n",
        "  text = remove_spaces_outside_brackets(text).lower()\n",
        "  text = text.replace(\" bill\", \"\")\n",
        "  text = text.replace('\"', '').replace(\"'\", \"\")\n",
        "  for k in us_state_abbrev_lower.keys():\n",
        "    if k in text:\n",
        "      text = text.replace(k, us_state_abbrev_lower[k])\n",
        "  pattern = r'\\(.*?\\)-\\[.*?\\]->\\(.*?\\)'\n",
        "  return list(set(re.findall(pattern, text)))\n",
        "\n",
        "# Returns the number of matches divided by the number of original triples\n",
        "# How many of the ground truth triples have been extracted from the LLM?\n",
        "def recall(GT_triples, Ex_triples):\n",
        "  if len(GT_triples) == 0:\n",
        "    return 0\n",
        "  matches = 0\n",
        "  for GT_triple in GT_triples:\n",
        "    for Ex_triple in Ex_triples:\n",
        "      # A match is defined by a Levenshtein ratio > 0.95\n",
        "      if Levenshtein.ratio(GT_triple, Ex_triple) > 0.95:\n",
        "        matches += 1\n",
        "        break\n",
        "  return matches/len(GT_triples)\n",
        "\n",
        "# Returns the number of matches divided by the number of extracted triples\n",
        "# How many of the extracted triples are correct?\n",
        "def precision(GT_triples, Ex_triples):\n",
        "  if len(Ex_triples) == 0:\n",
        "    return 0\n",
        "  matches = 0\n",
        "  for Ex_triple in Ex_triples:\n",
        "    for GT_triple in GT_triples:\n",
        "      # A match is defined by a Levenshtein ratio > 0.95\n",
        "      if Levenshtein.ratio(Ex_triple, GT_triple) > 0.95:\n",
        "        matches += 1\n",
        "        break\n",
        "  return matches/len(Ex_triples)"
      ],
      "metadata": {
        "id": "sD-dfDBYfUm9"
      },
      "execution_count": null,
      "outputs": []
    },
    {
      "cell_type": "markdown",
      "source": [
        "# 4 Original Databases"
      ],
      "metadata": {
        "id": "b0JjztWuhSCc"
      }
    },
    {
      "cell_type": "code",
      "source": [
        "# importing the module\n",
        "import json\n",
        "\n",
        "# Opening JSON file\n",
        "with open('responses.json') as json_file:\n",
        "    data = json.load(json_file)"
      ],
      "metadata": {
        "id": "qIU1YVVIfNJO"
      },
      "execution_count": null,
      "outputs": []
    },
    {
      "cell_type": "code",
      "source": [
        "data = json.loads(data)"
      ],
      "metadata": {
        "id": "pdmtWsz5fNdA"
      },
      "execution_count": null,
      "outputs": []
    },
    {
      "cell_type": "markdown",
      "source": [
        "## Non Finetuned LLM"
      ],
      "metadata": {
        "id": "656yNnZHhq9-"
      }
    },
    {
      "cell_type": "code",
      "source": [
        "results = []\n",
        "for el in data:\n",
        "  extracted_triples= extract_triples(el[\"triples\"])\n",
        "  extracted_NF_triples= extract_triples_from_responses(el[\"NF_triples\"])\n",
        "  results.append([recall(extracted_triples, extracted_NF_triples), precision(extracted_triples, extracted_NF_triples)])"
      ],
      "metadata": {
        "id": "wk9gkoBmhX0s"
      },
      "execution_count": null,
      "outputs": []
    },
    {
      "cell_type": "code",
      "source": [
        "#Average precision\n",
        "tot = 0\n",
        "for el in results:\n",
        "  tot += el[1]\n",
        "print(\"Average precision: \" + str(tot/400))\n",
        "\n",
        "#Average recall\n",
        "tot = 0\n",
        "for el in results:\n",
        "  tot += el[0]\n",
        "print(\"Average recall: \" + str(tot/400))"
      ],
      "metadata": {
        "colab": {
          "base_uri": "https://localhost:8080/"
        },
        "id": "JWcaY-YfhiII",
        "outputId": "71470f5b-b431-46de-dffd-8b8eb777484a"
      },
      "execution_count": null,
      "outputs": [
        {
          "output_type": "stream",
          "name": "stdout",
          "text": [
            "Average precision: 0.25342442279942273\n",
            "Average recall: 0.23680127511377527\n"
          ]
        }
      ]
    },
    {
      "cell_type": "markdown",
      "source": [
        "## Non Finetuned LLM with Few Shot Prompting"
      ],
      "metadata": {
        "id": "kjoM2ELPhtt8"
      }
    },
    {
      "cell_type": "code",
      "source": [
        "results = []\n",
        "for el in data:\n",
        "  extracted_triples= extract_triples(el[\"triples\"])\n",
        "  extracted_NF_triples= extract_triples_from_responses(el[\"FS_triples\"])\n",
        "  results.append([recall(extracted_triples, extracted_NF_triples), precision(extracted_triples, extracted_NF_triples)])"
      ],
      "metadata": {
        "id": "kClWf4pjNWym"
      },
      "execution_count": null,
      "outputs": []
    },
    {
      "cell_type": "code",
      "source": [
        "#Average precision\n",
        "tot = 0\n",
        "for el in results:\n",
        "  tot += el[1]\n",
        "print(\"Average precision: \" + str(tot/400))\n",
        "\n",
        "#Average recall\n",
        "tot = 0\n",
        "for el in results:\n",
        "  tot += el[0]\n",
        "print(\"Average recall: \" + str(tot/400))"
      ],
      "metadata": {
        "colab": {
          "base_uri": "https://localhost:8080/"
        },
        "id": "hFO6Dw0mJvQS",
        "outputId": "2c5a17ee-5d4b-4da6-c79a-c69d4d185451"
      },
      "execution_count": null,
      "outputs": [
        {
          "output_type": "stream",
          "name": "stdout",
          "text": [
            "Average precision: 0.6261810619935617\n",
            "Average recall: 0.5409542653983442\n"
          ]
        }
      ]
    },
    {
      "cell_type": "markdown",
      "source": [
        "## Finetuned LLM"
      ],
      "metadata": {
        "id": "JjKP_nEmh08o"
      }
    },
    {
      "cell_type": "code",
      "source": [
        "results = []\n",
        "for el in data:\n",
        "  extracted_triples= extract_triples(el[\"triples\"])\n",
        "  extracted_NF_triples= extract_triples_from_responses(el[\"FT_triples\"])\n",
        "  results.append([recall(extracted_triples, extracted_NF_triples), precision(extracted_triples, extracted_NF_triples)])"
      ],
      "metadata": {
        "id": "xbkDbQEEZUeo"
      },
      "execution_count": null,
      "outputs": []
    },
    {
      "cell_type": "code",
      "source": [
        "#Average precision\n",
        "tot = 0\n",
        "for el in results:\n",
        "  tot += el[1]\n",
        "print(\"Average precision: \" + str(tot/400))\n",
        "\n",
        "#Average recall\n",
        "tot = 0\n",
        "for el in results:\n",
        "  tot += el[0]\n",
        "print(\"Average recall: \" + str(tot/400))"
      ],
      "metadata": {
        "id": "7XPA_F9_jCOc",
        "outputId": "03a6ad37-e5ff-4de8-dff8-897fda4e0faa",
        "colab": {
          "base_uri": "https://localhost:8080/"
        }
      },
      "execution_count": null,
      "outputs": [
        {
          "output_type": "stream",
          "name": "stdout",
          "text": [
            "Average precision: 0.8115761097562568\n",
            "Average recall: 0.7673880448864003\n"
          ]
        }
      ]
    },
    {
      "cell_type": "markdown",
      "source": [
        "# 2 External Databases"
      ],
      "metadata": {
        "id": "viwKavqsh5mN"
      }
    },
    {
      "cell_type": "code",
      "source": [
        "# importing the module\n",
        "import json\n",
        "\n",
        "# Opening JSON file\n",
        "with open('responses_external_dbs.json') as json_file:\n",
        "    data = json.load(json_file)"
      ],
      "metadata": {
        "id": "AfZOP3Kch812"
      },
      "execution_count": null,
      "outputs": []
    },
    {
      "cell_type": "code",
      "source": [
        "data = json.loads(data)"
      ],
      "metadata": {
        "id": "qLKZy_Xeh813"
      },
      "execution_count": null,
      "outputs": []
    },
    {
      "cell_type": "markdown",
      "source": [
        "## Non Finetuned LLM"
      ],
      "metadata": {
        "id": "WOKWMU64h814"
      }
    },
    {
      "cell_type": "code",
      "source": [
        "results_NF = []\n",
        "for el in data:\n",
        "  extracted_triples= extract_triples(el[\"triples\"])\n",
        "  extracted_NF_triples= extract_triples_from_responses(el[\"NF_triples\"])\n",
        "  results_NF.append([recall(extracted_triples, extracted_NF_triples), precision(extracted_triples, extracted_NF_triples)])"
      ],
      "metadata": {
        "id": "vZavBQruh814"
      },
      "execution_count": null,
      "outputs": []
    },
    {
      "cell_type": "code",
      "source": [
        "#Average precision\n",
        "tot = 0\n",
        "for el in results:\n",
        "  tot += el[1]\n",
        "print(\"Average precision: \" + str(tot/200))\n",
        "\n",
        "#Average recall\n",
        "tot = 0\n",
        "for el in results:\n",
        "  tot += el[0]\n",
        "print(\"Average recall: \" + str(tot/200))"
      ],
      "metadata": {
        "colab": {
          "base_uri": "https://localhost:8080/"
        },
        "outputId": "953656f3-cdd3-45c2-ece0-751f056083b3",
        "id": "EKDpKCw_h815"
      },
      "execution_count": null,
      "outputs": [
        {
          "output_type": "stream",
          "name": "stdout",
          "text": [
            "Average precision: 0.09162961760461762\n",
            "Average recall: 0.07744950800833154\n"
          ]
        }
      ]
    },
    {
      "cell_type": "markdown",
      "source": [
        "## Non Finetuned LLM with Few Shot Prompting"
      ],
      "metadata": {
        "id": "C8JxP2r9h816"
      }
    },
    {
      "cell_type": "code",
      "source": [
        "results = []\n",
        "for el in data:\n",
        "  extracted_triples= extract_triples(el[\"triples\"])\n",
        "  extracted_NF_triples= extract_triples_from_responses(el[\"FS_triples\"])\n",
        "  results.append([recall(extracted_triples, extracted_NF_triples), precision(extracted_triples, extracted_NF_triples)])"
      ],
      "metadata": {
        "id": "F3eK1O2Wh816"
      },
      "execution_count": null,
      "outputs": []
    },
    {
      "cell_type": "code",
      "source": [
        "#Average precision\n",
        "tot = 0\n",
        "for el in results:\n",
        "  tot += el[1]\n",
        "print(\"Average precision: \" + str(tot/200))\n",
        "\n",
        "#Average recall\n",
        "tot = 0\n",
        "for el in results:\n",
        "  tot += el[0]\n",
        "print(\"Average recall: \" + str(tot/200))"
      ],
      "metadata": {
        "colab": {
          "base_uri": "https://localhost:8080/"
        },
        "outputId": "eb755a7b-0c13-4e00-f2e7-97575f65ce3c",
        "id": "MlS-dXSfh816"
      },
      "execution_count": null,
      "outputs": [
        {
          "output_type": "stream",
          "name": "stdout",
          "text": [
            "Average precision: 0.7213288378288375\n",
            "Average recall: 0.5671780984538338\n"
          ]
        }
      ]
    },
    {
      "cell_type": "markdown",
      "source": [
        "## Finetuned LLM"
      ],
      "metadata": {
        "id": "ZeUtxEAnh817"
      }
    },
    {
      "cell_type": "code",
      "source": [
        "results_FT = []\n",
        "for el in data:\n",
        "  extracted_triples= extract_triples(el[\"triples\"])\n",
        "  extracted_NF_triples= extract_triples_from_responses(el[\"FT_triples\"])\n",
        "  results_FT.append([recall(extracted_triples, extracted_NF_triples), precision(extracted_triples, extracted_NF_triples)])"
      ],
      "metadata": {
        "id": "_we8XNO7h817"
      },
      "execution_count": null,
      "outputs": []
    },
    {
      "cell_type": "code",
      "source": [
        "#Average precision\n",
        "tot = 0\n",
        "for el in results:\n",
        "  tot += el[1]\n",
        "print(\"Average precision: \" + str(tot/200))\n",
        "\n",
        "#Average recall\n",
        "tot = 0\n",
        "for el in results:\n",
        "  tot += el[0]\n",
        "print(\"Average recall: \" + str(tot/200))"
      ],
      "metadata": {
        "outputId": "b21db316-bf1d-467b-f549-d2be311f395b",
        "colab": {
          "base_uri": "https://localhost:8080/"
        },
        "id": "dAJtcHxyh817"
      },
      "execution_count": null,
      "outputs": [
        {
          "output_type": "stream",
          "name": "stdout",
          "text": [
            "Average precision: 0.3764262265512265\n",
            "Average recall: 0.3150033801982332\n"
          ]
        }
      ]
    },
    {
      "cell_type": "markdown",
      "source": [
        "## Finetuned LLM with Few Shot Prompting"
      ],
      "metadata": {
        "id": "ku3xRgVsiaP5"
      }
    },
    {
      "cell_type": "code",
      "source": [
        "results = []\n",
        "for el in data:\n",
        "  extracted_triples= extract_triples(el[\"triples\"])\n",
        "  extracted_NF_triples= extract_triples_from_responses(el[\"FT_FS_triples\"])\n",
        "  results.append([recall(extracted_triples, extracted_NF_triples), precision(extracted_triples, extracted_NF_triples)])"
      ],
      "metadata": {
        "id": "WEWgu2byiaQC"
      },
      "execution_count": null,
      "outputs": []
    },
    {
      "cell_type": "code",
      "source": [
        "#Average precision\n",
        "tot = 0\n",
        "for el in results:\n",
        "  tot += el[1]\n",
        "print(\"Average precision: \" + str(tot/200))\n",
        "\n",
        "#Average recall\n",
        "tot = 0\n",
        "for el in results:\n",
        "  tot += el[0]\n",
        "print(\"Average recall: \" + str(tot/200))"
      ],
      "metadata": {
        "outputId": "2c59b9e2-9df5-482b-faf5-967acd8316c9",
        "colab": {
          "base_uri": "https://localhost:8080/"
        },
        "id": "xRSPE0Z4iaQC"
      },
      "execution_count": null,
      "outputs": [
        {
          "output_type": "stream",
          "name": "stdout",
          "text": [
            "Average precision: 0.6884821706071703\n",
            "Average recall: 0.550634228108493\n"
          ]
        }
      ]
    },
    {
      "cell_type": "markdown",
      "source": [
        "## Finetuned LLM 2 (step 50)"
      ],
      "metadata": {
        "id": "_EC12r55bHMx"
      }
    },
    {
      "cell_type": "code",
      "source": [
        "results = []\n",
        "for el in data:\n",
        "  extracted_triples= extract_triples(el[\"triples\"])\n",
        "  extracted_NF_triples= extract_triples_from_responses(el[\"FSFT_triples_50\"])\n",
        "  results.append([recall(extracted_triples, extracted_NF_triples), precision(extracted_triples, extracted_NF_triples)])"
      ],
      "metadata": {
        "id": "kDhEEnIpbHM8"
      },
      "execution_count": null,
      "outputs": []
    },
    {
      "cell_type": "code",
      "source": [
        "#Average precision\n",
        "tot = 0\n",
        "for el in results:\n",
        "  tot += el[1]\n",
        "print(\"Average precision: \" + str(tot/200))\n",
        "\n",
        "#Average recall\n",
        "tot = 0\n",
        "for el in results:\n",
        "  tot += el[0]\n",
        "print(\"Average recall: \" + str(tot/200))"
      ],
      "metadata": {
        "outputId": "62881464-b19d-4131-84a8-453b268a3a97",
        "colab": {
          "base_uri": "https://localhost:8080/"
        },
        "id": "qMq7caoGbHM9"
      },
      "execution_count": null,
      "outputs": [
        {
          "output_type": "stream",
          "name": "stdout",
          "text": [
            "Average precision: 0.7182154385824464\n",
            "Average recall: 0.6641798773122303\n"
          ]
        }
      ]
    },
    {
      "cell_type": "markdown",
      "source": [
        "## Finetuned LLM 2 (step 150)"
      ],
      "metadata": {
        "id": "uC_m_BhCW0Oe"
      }
    },
    {
      "cell_type": "code",
      "source": [
        "results = []\n",
        "for el in data:\n",
        "  extracted_triples= extract_triples(el[\"triples\"])\n",
        "  extracted_NF_triples= extract_triples_from_responses(el[\"FSFT_triples_150\"])\n",
        "  results.append([recall(extracted_triples, extracted_NF_triples), precision(extracted_triples, extracted_NF_triples)])"
      ],
      "metadata": {
        "id": "9M8JGAtyW0Of"
      },
      "execution_count": null,
      "outputs": []
    },
    {
      "cell_type": "code",
      "source": [
        "#Average precision\n",
        "tot = 0\n",
        "for el in results:\n",
        "  tot += el[1]\n",
        "print(\"Average precision: \" + str(tot/200))\n",
        "\n",
        "#Average recall\n",
        "tot = 0\n",
        "for el in results:\n",
        "  tot += el[0]\n",
        "print(\"Average recall: \" + str(tot/200))"
      ],
      "metadata": {
        "outputId": "b823caec-c2fb-4e17-cbde-862e077aee43",
        "colab": {
          "base_uri": "https://localhost:8080/"
        },
        "id": "4HBRVcYWW0Og"
      },
      "execution_count": null,
      "outputs": [
        {
          "output_type": "stream",
          "name": "stdout",
          "text": [
            "Average precision: 0.6798755133755132\n",
            "Average recall: 0.619570431202784\n"
          ]
        }
      ]
    },
    {
      "cell_type": "markdown",
      "source": [
        "## Finetuned LLM 2 (step 300)"
      ],
      "metadata": {
        "id": "gT5D3qx_nZYF"
      }
    },
    {
      "cell_type": "code",
      "source": [
        "results = []\n",
        "for el in data:\n",
        "  extracted_triples= extract_triples(el[\"triples\"])\n",
        "  extracted_NF_triples= extract_triples_from_responses(el[\"FSFT_triples_300\"])\n",
        "  results.append([recall(extracted_triples, extracted_NF_triples), precision(extracted_triples, extracted_NF_triples)])"
      ],
      "metadata": {
        "id": "V2AGPtXInZYH"
      },
      "execution_count": null,
      "outputs": []
    },
    {
      "cell_type": "code",
      "source": [
        "#Average precision\n",
        "tot = 0\n",
        "for el in results:\n",
        "  tot += el[1]\n",
        "print(\"Average precision: \" + str(tot/200))\n",
        "\n",
        "#Average recall\n",
        "tot = 0\n",
        "for el in results:\n",
        "  tot += el[0]\n",
        "print(\"Average recall: \" + str(tot/200))"
      ],
      "metadata": {
        "outputId": "bdc62865-c25c-4b17-f3dd-50dc96ace743",
        "colab": {
          "base_uri": "https://localhost:8080/"
        },
        "id": "zfnGl1oGnZYI"
      },
      "execution_count": null,
      "outputs": [
        {
          "output_type": "stream",
          "name": "stdout",
          "text": [
            "Average precision: 0.5134541222666222\n",
            "Average recall: 0.45341587987176213\n"
          ]
        }
      ]
    }
  ]
}