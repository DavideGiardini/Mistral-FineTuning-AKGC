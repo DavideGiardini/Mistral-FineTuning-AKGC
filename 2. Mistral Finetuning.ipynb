{
  "cells": [
    {
      "cell_type": "markdown",
      "metadata": {
        "id": "EFd2XrDCLDMs"
      },
      "source": [
        "# Mistral 7B Fine-Tuning\n",
        "Now that our data is ready, we finetune Mistral 7B Instruct with QLora"
      ]
    },
    {
      "cell_type": "code",
      "execution_count": null,
      "metadata": {
        "id": "LZadKkWLLDMu"
      },
      "outputs": [],
      "source": [
        "!pip install matplotlib\n",
        "!pip install -q -U bitsandbytes\n",
        "!pip install -q -U git+https://github.com/huggingface/transformers.git\n",
        "!pip install -q -U git+https://github.com/huggingface/peft.git\n",
        "!pip install -q -U git+https://github.com/huggingface/accelerate.git\n",
        "!pip install -q -U datasets scipy ipywidgets"
      ]
    },
    {
      "cell_type": "code",
      "execution_count": null,
      "metadata": {
        "id": "AoRoyB2sLDMw"
      },
      "outputs": [],
      "source": [
        "from datasets import load_dataset\n",
        "from huggingface_hub import notebook_login\n",
        "import torch\n",
        "from transformers import AutoTokenizer, AutoModelForCausalLM, BitsAndBytesConfig"
      ]
    },
    {
      "cell_type": "markdown",
      "metadata": {
        "id": "AbvjuR6PLDMw"
      },
      "source": [
        "## Load Dataset and Model"
      ]
    },
    {
      "cell_type": "code",
      "execution_count": null,
      "metadata": {
        "colab": {
          "referenced_widgets": [
            "74bb6ebe8ff243a0909b2d463766a2af",
            "55d549c5c24949dbb443fdc1a7bfab02",
            "499ed12fd1b54f6c9c24de3cee8fd2e5",
            "c9fcd1ca34014e35882bad25cdfb7e67"
          ]
        },
        "id": "YS19wq8eLDMw",
        "outputId": "642f2225-30d4-474d-8758-afeb80a5fcbc"
      },
      "outputs": [
        {
          "data": {
            "application/vnd.jupyter.widget-view+json": {
              "model_id": "74bb6ebe8ff243a0909b2d463766a2af",
              "version_major": 2,
              "version_minor": 0
            },
            "text/plain": [
              "Downloading data:   0%|          | 0.00/1.57M [00:00<?, ?B/s]"
            ]
          },
          "metadata": {},
          "output_type": "display_data"
        },
        {
          "data": {
            "application/vnd.jupyter.widget-view+json": {
              "model_id": "55d549c5c24949dbb443fdc1a7bfab02",
              "version_major": 2,
              "version_minor": 0
            },
            "text/plain": [
              "Downloading data:   0%|          | 0.00/276k [00:00<?, ?B/s]"
            ]
          },
          "metadata": {},
          "output_type": "display_data"
        },
        {
          "data": {
            "application/vnd.jupyter.widget-view+json": {
              "model_id": "499ed12fd1b54f6c9c24de3cee8fd2e5",
              "version_major": 2,
              "version_minor": 0
            },
            "text/plain": [
              "Generating train split:   0%|          | 0/2400 [00:00<?, ? examples/s]"
            ]
          },
          "metadata": {},
          "output_type": "display_data"
        },
        {
          "data": {
            "application/vnd.jupyter.widget-view+json": {
              "model_id": "c9fcd1ca34014e35882bad25cdfb7e67",
              "version_major": 2,
              "version_minor": 0
            },
            "text/plain": [
              "Generating test split:   0%|          | 0/400 [00:00<?, ? examples/s]"
            ]
          },
          "metadata": {},
          "output_type": "display_data"
        },
        {
          "name": "stdout",
          "output_type": "stream",
          "text": [
            "DatasetDict({\n",
            "    train: Dataset({\n",
            "        features: ['0'],\n",
            "        num_rows: 2400\n",
            "    })\n",
            "    test: Dataset({\n",
            "        features: ['0'],\n",
            "        num_rows: 400\n",
            "    })\n",
            "})\n"
          ]
        }
      ],
      "source": [
        "# Load Dataset\n",
        "data = load_dataset(\"Giardooo/KG_constructor\")\n",
        "print(data)"
      ]
    },
    {
      "cell_type": "code",
      "execution_count": null,
      "metadata": {
        "colab": {
          "referenced_widgets": [
            "426f889b15854faca9f43b9aac1d9230"
          ]
        },
        "id": "wRjfU6pDLDMx",
        "outputId": "12590ecc-bda6-4e4e-ce2b-be860f4e1cbc"
      },
      "outputs": [
        {
          "data": {
            "application/vnd.jupyter.widget-view+json": {
              "model_id": "426f889b15854faca9f43b9aac1d9230",
              "version_major": 2,
              "version_minor": 0
            },
            "text/plain": [
              "VBox(children=(HTML(value='<center> <img\\nsrc=https://huggingface.co/front/assets/huggingface_logo-noborder.sv…"
            ]
          },
          "metadata": {},
          "output_type": "display_data"
        }
      ],
      "source": [
        "# Login to Hugginface\n",
        "notebook_login()"
      ]
    },
    {
      "cell_type": "code",
      "execution_count": null,
      "metadata": {
        "colab": {
          "referenced_widgets": [
            "7d9d57fc32934cf5a5c7c09023ddad1b",
            "9eff95e7bece430fb7e30a7e9176deee",
            "e0e3f203b8f945c8987fcdb10283a494",
            "0a399151797448b4808c8fdb358a6816",
            "99ce9253ecf346aeb7d7b3ca39e4f700",
            "997fae2bc4534ff78b7dae542d608ff2",
            "790dc61ff54f4fe596b92d47df2c186b"
          ]
        },
        "id": "vHCHc1DcLDMx",
        "outputId": "7dd5e19f-f151-4dde-939a-b686f9fa1fe0"
      },
      "outputs": [
        {
          "data": {
            "application/vnd.jupyter.widget-view+json": {
              "model_id": "7d9d57fc32934cf5a5c7c09023ddad1b",
              "version_major": 2,
              "version_minor": 0
            },
            "text/plain": [
              "config.json:   0%|          | 0.00/571 [00:00<?, ?B/s]"
            ]
          },
          "metadata": {},
          "output_type": "display_data"
        },
        {
          "name": "stderr",
          "output_type": "stream",
          "text": [
            "`low_cpu_mem_usage` was None, now set to True since model is quantized.\n"
          ]
        },
        {
          "data": {
            "application/vnd.jupyter.widget-view+json": {
              "model_id": "9eff95e7bece430fb7e30a7e9176deee",
              "version_major": 2,
              "version_minor": 0
            },
            "text/plain": [
              "model.safetensors.index.json:   0%|          | 0.00/25.1k [00:00<?, ?B/s]"
            ]
          },
          "metadata": {},
          "output_type": "display_data"
        },
        {
          "data": {
            "application/vnd.jupyter.widget-view+json": {
              "model_id": "e0e3f203b8f945c8987fcdb10283a494",
              "version_major": 2,
              "version_minor": 0
            },
            "text/plain": [
              "Downloading shards:   0%|          | 0/2 [00:00<?, ?it/s]"
            ]
          },
          "metadata": {},
          "output_type": "display_data"
        },
        {
          "data": {
            "application/vnd.jupyter.widget-view+json": {
              "model_id": "0a399151797448b4808c8fdb358a6816",
              "version_major": 2,
              "version_minor": 0
            },
            "text/plain": [
              "model-00001-of-00002.safetensors:   0%|          | 0.00/9.94G [00:00<?, ?B/s]"
            ]
          },
          "metadata": {},
          "output_type": "display_data"
        },
        {
          "data": {
            "application/vnd.jupyter.widget-view+json": {
              "model_id": "99ce9253ecf346aeb7d7b3ca39e4f700",
              "version_major": 2,
              "version_minor": 0
            },
            "text/plain": [
              "model-00002-of-00002.safetensors:   0%|          | 0.00/4.54G [00:00<?, ?B/s]"
            ]
          },
          "metadata": {},
          "output_type": "display_data"
        },
        {
          "data": {
            "application/vnd.jupyter.widget-view+json": {
              "model_id": "997fae2bc4534ff78b7dae542d608ff2",
              "version_major": 2,
              "version_minor": 0
            },
            "text/plain": [
              "Loading checkpoint shards:   0%|          | 0/2 [00:00<?, ?it/s]"
            ]
          },
          "metadata": {},
          "output_type": "display_data"
        },
        {
          "data": {
            "application/vnd.jupyter.widget-view+json": {
              "model_id": "790dc61ff54f4fe596b92d47df2c186b",
              "version_major": 2,
              "version_minor": 0
            },
            "text/plain": [
              "generation_config.json:   0%|          | 0.00/116 [00:00<?, ?B/s]"
            ]
          },
          "metadata": {},
          "output_type": "display_data"
        }
      ],
      "source": [
        "# Load Model\n",
        "base_model_id = \"mistralai/Mistral-7B-Instruct-v0.1\"\n",
        "bnb_config = BitsAndBytesConfig(\n",
        "    # Load the 4 bit quantized model\n",
        "    load_in_4bit=True,\n",
        "    # Use nested quantization\n",
        "    bnb_4bit_use_double_quant=True,\n",
        "    # Define the quantization data type to NF4\n",
        "    bnb_4bit_quant_type=\"nf4\",\n",
        "    # Set the computational type to bf16 for speed-up\n",
        "    bnb_4bit_compute_dtype=torch.bfloat16\n",
        ")\n",
        "\n",
        "model = AutoModelForCausalLM.from_pretrained(base_model_id, quantization_config=bnb_config)"
      ]
    },
    {
      "cell_type": "markdown",
      "metadata": {
        "id": "9nKr4iD3LDMy"
      },
      "source": [
        "## Set up the tokenizer"
      ]
    },
    {
      "cell_type": "code",
      "execution_count": null,
      "metadata": {
        "colab": {
          "referenced_widgets": [
            "d82dfb7b2f1448dda4b3bb2ec7e68da8",
            "a9ebcd02fc3d4e9db4e0b36fce5ae4e9",
            "ca7d249a7e08452a9de810e96e49190e",
            "f81ca3009bf64dbda120aba992ceaa18"
          ]
        },
        "id": "4IJTxcPlLDMy",
        "outputId": "c39901f8-2bce-4690-c795-da05ee701a76"
      },
      "outputs": [
        {
          "data": {
            "application/vnd.jupyter.widget-view+json": {
              "model_id": "d82dfb7b2f1448dda4b3bb2ec7e68da8",
              "version_major": 2,
              "version_minor": 0
            },
            "text/plain": [
              "tokenizer_config.json:   0%|          | 0.00/2.10k [00:00<?, ?B/s]"
            ]
          },
          "metadata": {},
          "output_type": "display_data"
        },
        {
          "data": {
            "application/vnd.jupyter.widget-view+json": {
              "model_id": "a9ebcd02fc3d4e9db4e0b36fce5ae4e9",
              "version_major": 2,
              "version_minor": 0
            },
            "text/plain": [
              "tokenizer.model:   0%|          | 0.00/493k [00:00<?, ?B/s]"
            ]
          },
          "metadata": {},
          "output_type": "display_data"
        },
        {
          "data": {
            "application/vnd.jupyter.widget-view+json": {
              "model_id": "ca7d249a7e08452a9de810e96e49190e",
              "version_major": 2,
              "version_minor": 0
            },
            "text/plain": [
              "tokenizer.json:   0%|          | 0.00/1.80M [00:00<?, ?B/s]"
            ]
          },
          "metadata": {},
          "output_type": "display_data"
        },
        {
          "data": {
            "application/vnd.jupyter.widget-view+json": {
              "model_id": "f81ca3009bf64dbda120aba992ceaa18",
              "version_major": 2,
              "version_minor": 0
            },
            "text/plain": [
              "special_tokens_map.json:   0%|          | 0.00/414 [00:00<?, ?B/s]"
            ]
          },
          "metadata": {},
          "output_type": "display_data"
        }
      ],
      "source": [
        "# Set up tokenizer without max tokens\n",
        "tokenizer = AutoTokenizer.from_pretrained(\n",
        "    # Set up Mistral tokenizer\n",
        "    base_model_id,\n",
        "    # Since Mistral is decoder-only, left pad is preferred\n",
        "    padding_side=\"left\",\n",
        "    # End Of Sequence token\n",
        "    add_eos_token=True)\n",
        "\n",
        "# Set pad token to unk_token\n",
        "# The default pad_token = eos_token results in the LLM forgetting the appropriate usage of the eos token, making it never stop generating text\n",
        "tokenizer.pad_token = tokenizer.unk_token\n",
        "\n",
        "def tokenize(examples):\n",
        "    # Extract the column of the dataset containing the text\n",
        "    text = examples[\"0\"]\n",
        "    result = tokenizer(\n",
        "        text,\n",
        "        # truncation=True,\n",
        "    )\n",
        "    result[\"labels\"] = result[\"input_ids\"].copy()\n",
        "    return result"
      ]
    },
    {
      "cell_type": "code",
      "execution_count": null,
      "metadata": {
        "colab": {
          "referenced_widgets": [
            "9b7df83acd874c91806827aba091462f",
            "3ccb86c5bf504a408a35aed7a61240e2"
          ]
        },
        "id": "-6wXIQ-bLDMy",
        "outputId": "e4c9a0eb-a4a3-465e-c1ef-71865c352edb"
      },
      "outputs": [
        {
          "data": {
            "application/vnd.jupyter.widget-view+json": {
              "model_id": "9b7df83acd874c91806827aba091462f",
              "version_major": 2,
              "version_minor": 0
            },
            "text/plain": [
              "Map:   0%|          | 0/2400 [00:00<?, ? examples/s]"
            ]
          },
          "metadata": {},
          "output_type": "display_data"
        },
        {
          "data": {
            "application/vnd.jupyter.widget-view+json": {
              "model_id": "3ccb86c5bf504a408a35aed7a61240e2",
              "version_major": 2,
              "version_minor": 0
            },
            "text/plain": [
              "Map:   0%|          | 0/400 [00:00<?, ? examples/s]"
            ]
          },
          "metadata": {},
          "output_type": "display_data"
        }
      ],
      "source": [
        "# Tokenize the dataset\n",
        "tokenized_data = data.map(tokenize, batched=True)"
      ]
    },
    {
      "cell_type": "markdown",
      "metadata": {
        "id": "OW6rFn5DLDMz"
      },
      "source": [
        "# Choose max_length\n",
        "Let's check the length (in token) of our observations. In this way we are going to choose the max_length parameter of our tokenizer."
      ]
    },
    {
      "cell_type": "code",
      "execution_count": null,
      "metadata": {
        "id": "dYhVpd-pLDMz"
      },
      "outputs": [],
      "source": [
        "import matplotlib.pyplot as plt"
      ]
    },
    {
      "cell_type": "code",
      "execution_count": null,
      "metadata": {
        "id": "8hHiz1P7LDMz",
        "outputId": "3e235021-52d4-47a4-debd-592b54d945e0"
      },
      "outputs": [
        {
          "name": "stdout",
          "output_type": "stream",
          "text": [
            "2800\n"
          ]
        },
        {
          "data": {
            "image/png": "[encoded data removed]",
            "text/plain": [
              "<Figure size 1000x600 with 1 Axes>"
            ]
          },
          "metadata": {},
          "output_type": "display_data"
        }
      ],
      "source": [
        "def plot_data_lengths(train, val):\n",
        "    lengths = [len(x['input_ids']) for x in train]\n",
        "    lengths += [len(x['input_ids']) for x in val]\n",
        "    print(len(lengths))\n",
        "\n",
        "    # Plotting the histogram\n",
        "    plt.figure(figsize=(10, 6))\n",
        "    plt.hist(lengths, bins=20, alpha=0.7, color='blue')\n",
        "    plt.xlabel('Num of tokens')\n",
        "    plt.ylabel('Frequency')\n",
        "    plt.title('Distribution of Num of tokens')\n",
        "    plt.show()\n",
        "\n",
        "plot_data_lengths(tokenized_data['train'], tokenized_data['test'])"
      ]
    },
    {
      "cell_type": "markdown",
      "metadata": {
        "id": "5e7p8V4QLDM0"
      },
      "source": [
        "1024 seems a reasonable max_length for our tokenizer."
      ]
    },
    {
      "cell_type": "code",
      "execution_count": null,
      "metadata": {
        "colab": {
          "referenced_widgets": [
            "1b36a8e256f94d0b8246c5fc83dabc9b",
            "303aa066e0c84e099efcb125ce2be2db"
          ]
        },
        "id": "ggIl8dNfLDM0",
        "outputId": "ccf0bfb1-b29a-4172-aeba-5879b998ad9e"
      },
      "outputs": [
        {
          "data": {
            "application/vnd.jupyter.widget-view+json": {
              "model_id": "1b36a8e256f94d0b8246c5fc83dabc9b",
              "version_major": 2,
              "version_minor": 0
            },
            "text/plain": [
              "Map:   0%|          | 0/2400 [00:00<?, ? examples/s]"
            ]
          },
          "metadata": {},
          "output_type": "display_data"
        },
        {
          "data": {
            "application/vnd.jupyter.widget-view+json": {
              "model_id": "303aa066e0c84e099efcb125ce2be2db",
              "version_major": 2,
              "version_minor": 0
            },
            "text/plain": [
              "Map:   0%|          | 0/400 [00:00<?, ? examples/s]"
            ]
          },
          "metadata": {},
          "output_type": "display_data"
        }
      ],
      "source": [
        "# Retokenize the data with a max length of 1024\n",
        "tokenizer = AutoTokenizer.from_pretrained(\n",
        "    base_model_id,\n",
        "    model_max_length=1024,\n",
        "    padding_side=\"left\",)\n",
        "#    add_eos_token=True)\n",
        "\n",
        "tokenizer.pad_token = tokenizer.unk_token\n",
        "\n",
        "def tokenize(examples):\n",
        "    text = examples[\"0\"]\n",
        "    result = tokenizer(\n",
        "        text,\n",
        "        truncation=True,\n",
        "        max_length=1024,\n",
        "        padding=\"max_length\",\n",
        "    )\n",
        "    result[\"labels\"] = result[\"input_ids\"].copy()\n",
        "    return result\n",
        "\n",
        "tokenized_data = data.map(tokenize, batched=True)"
      ]
    },
    {
      "cell_type": "code",
      "execution_count": null,
      "metadata": {
        "id": "cEhuDcyLLDM0"
      },
      "outputs": [],
      "source": [
        "tokenized_train_dataset = tokenized_data['train']\n",
        "tokenized_val_dataset = tokenized_data['test']"
      ]
    },
    {
      "cell_type": "code",
      "execution_count": null,
      "metadata": {
        "id": "S392doCaLDM1",
        "outputId": "90160462-c025-4f4a-aad1-0e58a83245c2"
      },
      "outputs": [
        {
          "name": "stdout",
          "output_type": "stream",
          "text": [
            "[0, 0, 0, 0, 0, 0, 0, 0, 0, 0, 0, 0, 0, 0, 0, 0, 0, 0, 0, 0, 0, 0, 0, 0, 0, 0, 0, 0, 0, 0, 0, 0, 0, 0, 0, 0, 0, 0, 0, 0, 0, 0, 0, 0, 0, 0, 0, 0, 0, 0, 0, 0, 0, 0, 0, 0, 0, 0, 0, 0, 0, 0, 0, 0, 0, 0, 0, 0, 0, 0, 0, 0, 0, 0, 0, 0, 0, 0, 0, 0, 0, 0, 0, 0, 0, 0, 0, 0, 0, 0, 0, 0, 0, 0, 0, 0, 0, 0, 0, 0, 0, 0, 0, 0, 0, 0, 0, 0, 0, 0, 0, 0, 0, 0, 0, 0, 0, 0, 0, 0, 0, 0, 0, 0, 0, 0, 0, 0, 0, 0, 0, 0, 0, 0, 0, 0, 0, 0, 0, 0, 0, 0, 0, 0, 0, 0, 0, 0, 0, 0, 0, 0, 0, 0, 0, 0, 0, 0, 0, 0, 0, 0, 0, 0, 0, 0, 0, 0, 0, 0, 0, 0, 0, 0, 0, 0, 0, 0, 0, 0, 0, 0, 0, 0, 0, 0, 0, 0, 0, 0, 0, 0, 0, 0, 0, 0, 0, 0, 0, 0, 0, 0, 0, 0, 0, 0, 0, 0, 0, 0, 0, 0, 0, 0, 0, 0, 0, 0, 0, 0, 0, 0, 0, 0, 0, 0, 0, 0, 0, 0, 0, 0, 0, 0, 0, 0, 0, 0, 0, 0, 0, 0, 0, 0, 0, 0, 0, 0, 0, 0, 0, 0, 0, 0, 0, 0, 0, 0, 0, 0, 0, 0, 0, 0, 0, 0, 0, 0, 0, 0, 0, 0, 0, 0, 0, 0, 0, 0, 0, 0, 0, 0, 0, 0, 0, 0, 0, 0, 0, 0, 0, 0, 0, 0, 0, 0, 0, 0, 0, 0, 0, 0, 0, 0, 0, 0, 0, 0, 0, 0, 0, 0, 0, 0, 0, 0, 0, 0, 0, 0, 0, 0, 0, 0, 0, 0, 0, 0, 0, 0, 0, 0, 0, 0, 0, 0, 0, 0, 0, 0, 0, 0, 0, 0, 0, 0, 0, 0, 0, 0, 0, 0, 0, 0, 0, 0, 0, 0, 0, 0, 0, 0, 0, 0, 0, 0, 0, 0, 0, 0, 0, 0, 0, 0, 0, 0, 0, 0, 0, 0, 0, 0, 0, 0, 0, 0, 0, 0, 0, 0, 0, 0, 0, 0, 0, 0, 0, 0, 0, 0, 0, 0, 0, 0, 0, 0, 0, 0, 0, 0, 0, 0, 0, 0, 0, 0, 0, 0, 0, 0, 0, 0, 0, 0, 0, 0, 0, 0, 0, 0, 0, 0, 0, 0, 0, 0, 0, 0, 0, 0, 0, 0, 0, 0, 0, 0, 0, 0, 0, 0, 0, 0, 0, 0, 0, 0, 0, 0, 0, 0, 0, 0, 0, 0, 0, 0, 0, 0, 0, 0, 0, 0, 0, 0, 0, 0, 0, 0, 0, 0, 0, 0, 0, 0, 0, 0, 0, 0, 0, 0, 0, 0, 0, 0, 0, 0, 0, 0, 0, 0, 0, 0, 0, 0, 0, 0, 0, 0, 0, 0, 0, 0, 0, 0, 0, 0, 0, 0, 0, 0, 0, 0, 0, 0, 0, 0, 0, 0, 0, 0, 0, 0, 0, 0, 0, 0, 0, 0, 0, 0, 0, 0, 0, 0, 0, 0, 0, 0, 0, 0, 0, 0, 0, 0, 0, 0, 0, 0, 0, 0, 1, 1, 28792, 16289, 28793, 2012, 16816, 1250, 264, 11308, 3829, 15146, 11429, 477, 521, 1356, 2330, 2245, 28723, 13, 28093, 288, 272, 12493, 3857, 28725, 9131, 544, 272, 2629, 2815, 368, 541, 1300, 297, 272, 2245, 28723, 13, 13, 7435, 28747, 13, 28732, 14537, 8069, 1028, 9572, 28792, 896, 6314, 28735, 2431, 28735, 11379, 28732, 2028, 2540, 28731, 13, 28732, 14537, 8069, 1028, 9572, 28792, 1851, 28730, 1574, 26172, 28730, 10907, 11379, 28732, 4917, 28724, 28731, 13, 28732, 14537, 8069, 1028, 9572, 28792, 28749, 8785, 1906, 28730, 3957, 11379, 28732, 6982, 28731, 13, 28732, 18069, 1018, 9572, 28792, 3701, 832, 4989, 12466, 28730, 9732, 11379, 28732, 14537, 8069, 1028, 28731, 13, 28732, 14537, 8069, 1028, 9572, 28792, 28790, 2185, 1906, 28730, 832, 11379, 28732, 18069, 1018, 28731, 13, 28732, 18069, 1018, 9572, 28792, 14329, 725, 12466, 28730, 3957, 11379, 28732, 20629, 6267, 28731, 13, 28732, 14537, 8069, 1028, 9572, 28792, 8548, 28790, 2255, 28730, 832, 11379, 28732, 20629, 6267, 28731, 13, 28732, 18069, 1018, 9572, 28792, 1336, 1086, 28735, 28730, 21646, 11379, 28732, 22210, 28731, 13, 13, 2083, 28747, 13, 28739, 28760, 2767, 737, 272, 15384, 28782, 28783, 28770, 28770, 28733, 28740, 28740, 28781, 28725, 15384, 28781, 28734, 28770, 28784, 28733, 28740, 28740, 28781, 28725, 15384, 28784, 28770, 28740, 28740, 28733, 28740, 28740, 28781, 28725, 268, 28740, 28774, 28740, 28734, 28733, 28740, 28740, 28781, 28725, 15384, 28750, 28783, 28784, 28781, 28733, 28740, 28740, 28781, 28725, 15384, 28750, 28774, 28740, 28734, 28733, 28740, 28740, 28781, 28725, 304, 268, 28750, 28784, 28782, 28774, 28733, 28740, 28740, 28781, 544, 3215, 395, 12507, 25251, 15251, 611, 28792, 28748, 16289, 28793, 13, 13, 24958, 286, 9982, 2815, 28747, 13, 28732, 2176, 28782, 28783, 28770, 28770, 28733, 28740, 28740, 28781, 28731, 387, 733, 1336, 1086, 28735, 28730, 21646, 28793, 3193, 325, 15827, 282, 25251, 15251, 28731, 13, 28732, 2176, 28781, 28734, 28770, 28784, 28733, 28740, 28740, 28781, 28731, 387, 733, 1336, 1086, 28735, 28730, 21646, 28793, 3193, 325, 15827, 282, 25251, 15251, 28731, 13, 28732, 2176, 28784, 28770, 28740, 28740, 28733, 28740, 28740, 28781, 28731, 387, 733, 1336, 1086, 28735, 28730, 21646, 28793, 3193, 325, 15827, 282, 25251, 15251, 28731, 13, 28732, 28713, 28740, 28774, 28740, 28734, 28733, 28740, 28740, 28781, 28731, 387, 733, 1336, 1086, 28735, 28730, 21646, 28793, 3193, 325, 15827, 282, 25251, 15251, 28731, 13, 28732, 2176, 28750, 28783, 28784, 28781, 28733, 28740, 28740, 28781, 28731, 387, 733, 1336, 1086, 28735, 28730, 21646, 28793, 3193, 325, 15827, 282, 25251, 15251, 28731, 13, 28732, 2176, 28750, 28774, 28740, 28734, 28733, 28740, 28740, 28781, 28731, 387, 733, 1336, 1086, 28735, 28730, 21646, 28793, 3193, 325, 15827, 282, 25251, 15251, 28731, 13, 28732, 28713, 28750, 28784, 28782, 28774, 28733, 28740, 28740, 28781, 28731, 387, 733, 1336, 1086, 28735, 28730, 21646, 28793, 3193, 325, 15827, 282, 25251, 15251, 28731, 2]\n"
          ]
        }
      ],
      "source": [
        "# Print an example of the tokenized_data\n",
        "# The initial \"0\"s are the unk_token used for padding to the left.\n",
        "# The ending \"2\" corresponds to the eos_token\n",
        "print(tokenized_train_dataset[0]['input_ids'])"
      ]
    },
    {
      "cell_type": "code",
      "execution_count": null,
      "metadata": {
        "id": "ra9qr-XWLDM1",
        "outputId": "4798df44-58f7-4102-b5c8-f1278268576e"
      },
      "outputs": [
        {
          "name": "stdout",
          "output_type": "stream",
          "text": [
            "1024\n"
          ]
        }
      ],
      "source": [
        "# The max length has been correctly set to 1024\n",
        "print(len(tokenized_train_dataset[0]['input_ids']))"
      ]
    },
    {
      "cell_type": "markdown",
      "metadata": {
        "id": "4smWNn4RLDM1"
      },
      "source": [
        "## Trying the base model\n",
        "Let's try for the first time how the base Mistral 7B instruct performs with a casual observation."
      ]
    },
    {
      "cell_type": "code",
      "execution_count": null,
      "metadata": {
        "id": "6MsV10dTLDM2"
      },
      "outputs": [],
      "source": [
        "model_input = tokenized_train_dataset[0]['input_ids']"
      ]
    },
    {
      "cell_type": "code",
      "execution_count": null,
      "metadata": {
        "id": "V_ya_62ELDM2"
      },
      "outputs": [],
      "source": [
        "eval_prompt = \"\"\"[INST] Imagine being a Knowledge Graph constructor from unstructured text.\n",
        "Following the schema provided, extract all the triples you can find in the text.\n",
        "\n",
        "Schema:\n",
        "(Legislator)-[REPRESENTS]->(StateCode)\n",
        "(Legislator)-[IS_MEMBER_OF]->(Party)\n",
        "(Legislator)-[ELECTED_TO]->(Body)\n",
        "(BillId)-[SPONSORED_BY]->(Legislator)\n",
        "(Legislator)-[VOTED_ON]->(BillId)\n",
        "(BillId)-[REFERRED_TO]->(Committee)\n",
        "(Legislator)-[SERVES_ON]->(Committee)\n",
        "(BillId)-[DEALS_WITH]->(Subject)\n",
        "\n",
        "Context:\n",
        "\"Hey guys, just wanted to share something I found out about the Tennessean and American Samoan representatives.\n",
        "So, both Bob Corker and Chuck Fleischmann are from Tennessee. They're also both Republicans. That's cool! But here's the interesting part: Chuck Fleischmann is in the House, while Bob Corker isn't.\n",
        "And guess what? The American Samoan representative, Amata Coleman Radewagen, is also a Republican. Plus, she's in the House too. Small world, huh?\"[/INST]\n",
        "\n",
        "Extracted Triples:\"\"\""
      ]
    },
    {
      "cell_type": "code",
      "execution_count": null,
      "metadata": {
        "id": "O600VvnqLDM2",
        "outputId": "3b16df61-ae69-4566-88a6-5670a8e54473"
      },
      "outputs": [
        {
          "name": "stderr",
          "output_type": "stream",
          "text": [
            "Setting `pad_token_id` to `eos_token_id`:2 for open-end generation.\n"
          ]
        },
        {
          "name": "stdout",
          "output_type": "stream",
          "text": [
            "<s> [INST] Imagine being a Knowledge Graph constructor from unstructured text.\n",
            "Following the schema provided, extract all the triples you can find in the text.\n",
            "\n",
            "Schema:\n",
            "(Legislator)-[REPRESENTS]->(StateCode)\n",
            "(Legislator)-[IS_MEMBER_OF]->(Party)\n",
            "(Legislator)-[ELECTED_TO]->(Body)\n",
            "(BillId)-[SPONSORED_BY]->(Legislator)\n",
            "(Legislator)-[VOTED_ON]->(BillId)\n",
            "(BillId)-[REFERRED_TO]->(Committee)\n",
            "(Legislator)-[SERVES_ON]->(Committee)\n",
            "(BillId)-[DEALS_WITH]->(Subject)\n",
            "\n",
            "Context:\n",
            "\"Hey guys, just wanted to share something I found out about the Tennessean and American Samoan representatives.\n",
            "So, both Bob Corker and Chuck Fleischmann are from Tennessee. They're also both Republicans. That's cool! But here's the interesting part: Chuck Fleischmann is in the House, while Bob Corker isn't.\n",
            "And guess what? The American Samoan representative, Amata Coleman Radewagen, is also a Republican. Plus, she's in the House too. Small world, huh?\"[/INST]\n",
            "\n",
            "Extracted Triples:\n",
            "(BobCorker)-[REPRESENTS]->(Tennessee)\n",
            "(ChuckFleischmann)-[REPRESENTS]->(Tennessee)\n",
            "(AmataColemanRadewagen)-[REPRESENTS]->(AmericanSamoa)\n",
            "(BobCorker)-[IS_MEMBER_OF]->(Republicans)\n",
            "(ChuckFleischmann)-[IS_MEMBER_OF]->(Republicans)\n",
            "(AmataColemanRadewagen)-[IS_MEMBER_OF]->(Republicans)\n",
            "(BobCorker)-[ELECTED_TO]->(HouseOfRepresentatives)\n",
            "(ChuckFleischmann)-[ELECTED_TO]->(HouseOfRepresentatives)\n",
            "(AmataColemanRadewagen)-[ELECTED_TO]->(HouseOfRepresentatives)</s>\n"
          ]
        }
      ],
      "source": [
        "tokenizer = AutoTokenizer.from_pretrained(\n",
        "    base_model_id,\n",
        "    model_max_length=1024,\n",
        "    padding_side=\"left\")\n",
        "\n",
        "model_input = tokenizer(eval_prompt, return_tensors=\"pt\").to(\"cuda\")\n",
        "\n",
        "model.eval()\n",
        "with torch.no_grad():\n",
        "    print(tokenizer.decode(model.generate(**model_input, max_new_tokens=256, repetition_penalty=1.15)[0], skip_special_tokens=False))"
      ]
    },
    {
      "cell_type": "markdown",
      "metadata": {
        "id": "6_KsqTi_LDM2"
      },
      "source": [
        "# Set up QLoRA"
      ]
    },
    {
      "cell_type": "code",
      "execution_count": null,
      "metadata": {
        "id": "yHWaKQCeLDM3"
      },
      "outputs": [],
      "source": [
        "from peft import prepare_model_for_kbit_training\n",
        "\n",
        "model.gradient_checkpointing_enable()\n",
        "model = prepare_model_for_kbit_training(model)"
      ]
    },
    {
      "cell_type": "code",
      "execution_count": null,
      "metadata": {
        "id": "L-WvMLIwLDM3",
        "outputId": "42f80408-5d75-4465-f4b7-0ab9612ddbe0"
      },
      "outputs": [
        {
          "name": "stdout",
          "output_type": "stream",
          "text": [
            "MistralForCausalLM(\n",
            "  (model): MistralModel(\n",
            "    (embed_tokens): Embedding(32000, 4096)\n",
            "    (layers): ModuleList(\n",
            "      (0-31): 32 x MistralDecoderLayer(\n",
            "        (self_attn): MistralSdpaAttention(\n",
            "          (q_proj): Linear4bit(in_features=4096, out_features=4096, bias=False)\n",
            "          (k_proj): Linear4bit(in_features=4096, out_features=1024, bias=False)\n",
            "          (v_proj): Linear4bit(in_features=4096, out_features=1024, bias=False)\n",
            "          (o_proj): Linear4bit(in_features=4096, out_features=4096, bias=False)\n",
            "          (rotary_emb): MistralRotaryEmbedding()\n",
            "        )\n",
            "        (mlp): MistralMLP(\n",
            "          (gate_proj): Linear4bit(in_features=4096, out_features=14336, bias=False)\n",
            "          (up_proj): Linear4bit(in_features=4096, out_features=14336, bias=False)\n",
            "          (down_proj): Linear4bit(in_features=14336, out_features=4096, bias=False)\n",
            "          (act_fn): SiLU()\n",
            "        )\n",
            "        (input_layernorm): MistralRMSNorm((4096,), eps=1e-05)\n",
            "        (post_attention_layernorm): MistralRMSNorm((4096,), eps=1e-05)\n",
            "      )\n",
            "    )\n",
            "    (norm): MistralRMSNorm((4096,), eps=1e-05)\n",
            "  )\n",
            "  (lm_head): Linear(in_features=4096, out_features=32000, bias=False)\n",
            ")\n"
          ]
        }
      ],
      "source": [
        "# Print the model\n",
        "print(model)"
      ]
    },
    {
      "cell_type": "markdown",
      "metadata": {
        "id": "1axovts6LDM3"
      },
      "source": [
        "We will apply QLoRA to all the linear layers: `q_proj`, `k_proj`, `v_proj`, `o_proj`, `gate_proj`, `up_proj`, `down_proj`, and `lm_head`."
      ]
    },
    {
      "cell_type": "code",
      "execution_count": null,
      "metadata": {
        "id": "4L-SDr1pLDM3"
      },
      "outputs": [],
      "source": [
        "# We will apply QLoRA to all the linear layers:\n",
        "linear_layers = [\n",
        "    \"q_proj\",\n",
        "    \"k_proj\",\n",
        "    \"v_proj\",\n",
        "    \"o_proj\",\n",
        "    \"gate_proj\",\n",
        "    \"up_proj\",\n",
        "    \"down_proj\",\n",
        "    \"lm_head\",\n",
        "]"
      ]
    },
    {
      "cell_type": "code",
      "execution_count": null,
      "metadata": {
        "id": "3hHvtj2RLDM3"
      },
      "outputs": [],
      "source": [
        "from peft import LoraConfig, get_peft_model\n",
        "\n",
        "config = LoraConfig(\n",
        "    r=8,\n",
        "    lora_alpha=16,\n",
        "    target_modules = linear_layers,\n",
        "    #bias=\"none\",\n",
        "    lora_dropout=0.05,  # In QLoRa paper\n",
        "    task_type=\"CAUSAL_LM\",\n",
        ")\n",
        "\n",
        "model = get_peft_model(model, config)"
      ]
    },
    {
      "cell_type": "code",
      "execution_count": null,
      "metadata": {
        "id": "8NaxF3-HLDM4",
        "outputId": "c8dcebd5-7933-4357-a19d-989f04fa8aa0"
      },
      "outputs": [
        {
          "name": "stdout",
          "output_type": "stream",
          "text": [
            "trainable params: 21260288 || all params: 3773331456 || trainable%: 0.5634354746703705\n"
          ]
        }
      ],
      "source": [
        "# How many trainable parameters do we have?\n",
        "trainable_params = 0\n",
        "all_param = 0\n",
        "for _, param in model.named_parameters():\n",
        "    all_param += param.numel()\n",
        "    if param.requires_grad:\n",
        "        trainable_params += param.numel()\n",
        "print(\n",
        "    f\"trainable params: {trainable_params} || all params: {all_param} || trainable%: {100 * trainable_params / all_param}\"\n",
        ")"
      ]
    },
    {
      "cell_type": "markdown",
      "metadata": {
        "id": "m5L74zKBLDM4"
      },
      "source": [
        "## Train the Model"
      ]
    },
    {
      "cell_type": "code",
      "execution_count": null,
      "metadata": {
        "id": "uZax46hrLDM4",
        "outputId": "e4346f1d-f818-47c7-b830-e7f3e3f7b1de"
      },
      "outputs": [
        {
          "name": "stderr",
          "output_type": "stream",
          "text": [
            "Detected kernel version 5.4.0, which is below the recommended minimum of 5.5.0; this can cause the process to hang. It is recommended to upgrade the kernel to the minimum version or higher.\n",
            "max_steps is given, it will override any value given in num_train_epochs\n",
            "/usr/local/lib/python3.11/dist-packages/torch/_dynamo/eval_frame.py:600: UserWarning: torch.utils.checkpoint: the use_reentrant parameter should be passed explicitly. In version 2.4 we will raise an exception if use_reentrant is not passed. use_reentrant=False is recommended, but if you need to preserve the current default behavior, you can pass use_reentrant=True. Refer to docs for more details on the differences between the two variants.\n",
            "  return fn(*args, **kwargs)\n",
            "/usr/local/lib/python3.11/dist-packages/torch/utils/checkpoint.py:295: FutureWarning: `torch.cpu.amp.autocast(args...)` is deprecated. Please use `torch.amp.autocast('cpu', args...)` instead.\n",
            "  with torch.enable_grad(), device_autocast_ctx, torch.cpu.amp.autocast(**ctx.cpu_autocast_kwargs):  # type: ignore[attr-defined]\n"
          ]
        },
        {
          "data": {
            "text/html": [
              "\n",
              "    <div>\n",
              "      \n",
              "      <progress value='1000' max='1000' style='width:300px; height:20px; vertical-align: middle;'></progress>\n",
              "      [1000/1000 3:51:12, Epoch 3/4]\n",
              "    </div>\n",
              "    <table border=\"1\" class=\"dataframe\">\n",
              "  <thead>\n",
              " <tr style=\"text-align: left;\">\n",
              "      <th>Step</th>\n",
              "      <th>Training Loss</th>\n",
              "      <th>Validation Loss</th>\n",
              "    </tr>\n",
              "  </thead>\n",
              "  <tbody>\n",
              "    <tr>\n",
              "      <td>50</td>\n",
              "      <td>0.986600</td>\n",
              "      <td>0.701309</td>\n",
              "    </tr>\n",
              "    <tr>\n",
              "      <td>100</td>\n",
              "      <td>0.658600</td>\n",
              "      <td>0.600361</td>\n",
              "    </tr>\n",
              "    <tr>\n",
              "      <td>150</td>\n",
              "      <td>0.569500</td>\n",
              "      <td>0.561125</td>\n",
              "    </tr>\n",
              "    <tr>\n",
              "      <td>200</td>\n",
              "      <td>0.576000</td>\n",
              "      <td>0.543309</td>\n",
              "    </tr>\n",
              "    <tr>\n",
              "      <td>250</td>\n",
              "      <td>0.546400</td>\n",
              "      <td>0.532739</td>\n",
              "    </tr>\n",
              "    <tr>\n",
              "      <td>300</td>\n",
              "      <td>0.527600</td>\n",
              "      <td>0.524735</td>\n",
              "    </tr>\n",
              "    <tr>\n",
              "      <td>350</td>\n",
              "      <td>0.498200</td>\n",
              "      <td>0.519283</td>\n",
              "    </tr>\n",
              "    <tr>\n",
              "      <td>400</td>\n",
              "      <td>0.502900</td>\n",
              "      <td>0.513471</td>\n",
              "    </tr>\n",
              "    <tr>\n",
              "      <td>450</td>\n",
              "      <td>0.483600</td>\n",
              "      <td>0.508509</td>\n",
              "    </tr>\n",
              "    <tr>\n",
              "      <td>500</td>\n",
              "      <td>0.489700</td>\n",
              "      <td>0.504467</td>\n",
              "    </tr>\n",
              "    <tr>\n",
              "      <td>550</td>\n",
              "      <td>0.480900</td>\n",
              "      <td>0.501612</td>\n",
              "    </tr>\n",
              "    <tr>\n",
              "      <td>600</td>\n",
              "      <td>0.482300</td>\n",
              "      <td>0.499139</td>\n",
              "    </tr>\n",
              "    <tr>\n",
              "      <td>650</td>\n",
              "      <td>0.440100</td>\n",
              "      <td>0.498977</td>\n",
              "    </tr>\n",
              "    <tr>\n",
              "      <td>700</td>\n",
              "      <td>0.456600</td>\n",
              "      <td>0.497480</td>\n",
              "    </tr>\n",
              "    <tr>\n",
              "      <td>750</td>\n",
              "      <td>0.447200</td>\n",
              "      <td>0.496090</td>\n",
              "    </tr>\n",
              "    <tr>\n",
              "      <td>800</td>\n",
              "      <td>0.442500</td>\n",
              "      <td>0.494619</td>\n",
              "    </tr>\n",
              "    <tr>\n",
              "      <td>850</td>\n",
              "      <td>0.441400</td>\n",
              "      <td>0.492816</td>\n",
              "    </tr>\n",
              "    <tr>\n",
              "      <td>900</td>\n",
              "      <td>0.431000</td>\n",
              "      <td>0.492019</td>\n",
              "    </tr>\n",
              "    <tr>\n",
              "      <td>950</td>\n",
              "      <td>0.414200</td>\n",
              "      <td>0.494362</td>\n",
              "    </tr>\n",
              "    <tr>\n",
              "      <td>1000</td>\n",
              "      <td>0.419700</td>\n",
              "      <td>0.494263</td>\n",
              "    </tr>\n",
              "  </tbody>\n",
              "</table><p>"
            ],
            "text/plain": [
              "<IPython.core.display.HTML object>"
            ]
          },
          "metadata": {},
          "output_type": "display_data"
        },
        {
          "name": "stderr",
          "output_type": "stream",
          "text": [
            "/usr/local/lib/python3.11/dist-packages/peft/utils/save_and_load.py:204: UserWarning: Setting `save_embedding_layers` to `True` as embedding layers found in `target_modules`.\n",
            "  warnings.warn(\"Setting `save_embedding_layers` to `True` as embedding layers found in `target_modules`.\")\n",
            "/usr/local/lib/python3.11/dist-packages/torch/_dynamo/eval_frame.py:600: UserWarning: torch.utils.checkpoint: the use_reentrant parameter should be passed explicitly. In version 2.4 we will raise an exception if use_reentrant is not passed. use_reentrant=False is recommended, but if you need to preserve the current default behavior, you can pass use_reentrant=True. Refer to docs for more details on the differences between the two variants.\n",
            "  return fn(*args, **kwargs)\n",
            "/usr/local/lib/python3.11/dist-packages/torch/utils/checkpoint.py:295: FutureWarning: `torch.cpu.amp.autocast(args...)` is deprecated. Please use `torch.amp.autocast('cpu', args...)` instead.\n",
            "  with torch.enable_grad(), device_autocast_ctx, torch.cpu.amp.autocast(**ctx.cpu_autocast_kwargs):  # type: ignore[attr-defined]\n",
            "/usr/local/lib/python3.11/dist-packages/peft/utils/save_and_load.py:204: UserWarning: Setting `save_embedding_layers` to `True` as embedding layers found in `target_modules`.\n",
            "  warnings.warn(\"Setting `save_embedding_layers` to `True` as embedding layers found in `target_modules`.\")\n",
            "/usr/local/lib/python3.11/dist-packages/torch/_dynamo/eval_frame.py:600: UserWarning: torch.utils.checkpoint: the use_reentrant parameter should be passed explicitly. In version 2.4 we will raise an exception if use_reentrant is not passed. use_reentrant=False is recommended, but if you need to preserve the current default behavior, you can pass use_reentrant=True. Refer to docs for more details on the differences between the two variants.\n",
            "  return fn(*args, **kwargs)\n",
            "/usr/local/lib/python3.11/dist-packages/torch/utils/checkpoint.py:295: FutureWarning: `torch.cpu.amp.autocast(args...)` is deprecated. Please use `torch.amp.autocast('cpu', args...)` instead.\n",
            "  with torch.enable_grad(), device_autocast_ctx, torch.cpu.amp.autocast(**ctx.cpu_autocast_kwargs):  # type: ignore[attr-defined]\n",
            "/usr/local/lib/python3.11/dist-packages/peft/utils/save_and_load.py:204: UserWarning: Setting `save_embedding_layers` to `True` as embedding layers found in `target_modules`.\n",
            "  warnings.warn(\"Setting `save_embedding_layers` to `True` as embedding layers found in `target_modules`.\")\n",
            "/usr/local/lib/python3.11/dist-packages/torch/_dynamo/eval_frame.py:600: UserWarning: torch.utils.checkpoint: the use_reentrant parameter should be passed explicitly. In version 2.4 we will raise an exception if use_reentrant is not passed. use_reentrant=False is recommended, but if you need to preserve the current default behavior, you can pass use_reentrant=True. Refer to docs for more details on the differences between the two variants.\n",
            "  return fn(*args, **kwargs)\n",
            "/usr/local/lib/python3.11/dist-packages/torch/utils/checkpoint.py:295: FutureWarning: `torch.cpu.amp.autocast(args...)` is deprecated. Please use `torch.amp.autocast('cpu', args...)` instead.\n",
            "  with torch.enable_grad(), device_autocast_ctx, torch.cpu.amp.autocast(**ctx.cpu_autocast_kwargs):  # type: ignore[attr-defined]\n",
            "/usr/local/lib/python3.11/dist-packages/peft/utils/save_and_load.py:204: UserWarning: Setting `save_embedding_layers` to `True` as embedding layers found in `target_modules`.\n",
            "  warnings.warn(\"Setting `save_embedding_layers` to `True` as embedding layers found in `target_modules`.\")\n",
            "/usr/local/lib/python3.11/dist-packages/torch/_dynamo/eval_frame.py:600: UserWarning: torch.utils.checkpoint: the use_reentrant parameter should be passed explicitly. In version 2.4 we will raise an exception if use_reentrant is not passed. use_reentrant=False is recommended, but if you need to preserve the current default behavior, you can pass use_reentrant=True. Refer to docs for more details on the differences between the two variants.\n",
            "  return fn(*args, **kwargs)\n",
            "/usr/local/lib/python3.11/dist-packages/torch/utils/checkpoint.py:295: FutureWarning: `torch.cpu.amp.autocast(args...)` is deprecated. Please use `torch.amp.autocast('cpu', args...)` instead.\n",
            "  with torch.enable_grad(), device_autocast_ctx, torch.cpu.amp.autocast(**ctx.cpu_autocast_kwargs):  # type: ignore[attr-defined]\n",
            "/usr/local/lib/python3.11/dist-packages/peft/utils/save_and_load.py:204: UserWarning: Setting `save_embedding_layers` to `True` as embedding layers found in `target_modules`.\n",
            "  warnings.warn(\"Setting `save_embedding_layers` to `True` as embedding layers found in `target_modules`.\")\n",
            "/usr/local/lib/python3.11/dist-packages/torch/_dynamo/eval_frame.py:600: UserWarning: torch.utils.checkpoint: the use_reentrant parameter should be passed explicitly. In version 2.4 we will raise an exception if use_reentrant is not passed. use_reentrant=False is recommended, but if you need to preserve the current default behavior, you can pass use_reentrant=True. Refer to docs for more details on the differences between the two variants.\n",
            "  return fn(*args, **kwargs)\n",
            "/usr/local/lib/python3.11/dist-packages/torch/utils/checkpoint.py:295: FutureWarning: `torch.cpu.amp.autocast(args...)` is deprecated. Please use `torch.amp.autocast('cpu', args...)` instead.\n",
            "  with torch.enable_grad(), device_autocast_ctx, torch.cpu.amp.autocast(**ctx.cpu_autocast_kwargs):  # type: ignore[attr-defined]\n",
            "/usr/local/lib/python3.11/dist-packages/peft/utils/save_and_load.py:204: UserWarning: Setting `save_embedding_layers` to `True` as embedding layers found in `target_modules`.\n",
            "  warnings.warn(\"Setting `save_embedding_layers` to `True` as embedding layers found in `target_modules`.\")\n",
            "/usr/local/lib/python3.11/dist-packages/torch/_dynamo/eval_frame.py:600: UserWarning: torch.utils.checkpoint: the use_reentrant parameter should be passed explicitly. In version 2.4 we will raise an exception if use_reentrant is not passed. use_reentrant=False is recommended, but if you need to preserve the current default behavior, you can pass use_reentrant=True. Refer to docs for more details on the differences between the two variants.\n",
            "  return fn(*args, **kwargs)\n",
            "/usr/local/lib/python3.11/dist-packages/torch/utils/checkpoint.py:295: FutureWarning: `torch.cpu.amp.autocast(args...)` is deprecated. Please use `torch.amp.autocast('cpu', args...)` instead.\n",
            "  with torch.enable_grad(), device_autocast_ctx, torch.cpu.amp.autocast(**ctx.cpu_autocast_kwargs):  # type: ignore[attr-defined]\n",
            "/usr/local/lib/python3.11/dist-packages/peft/utils/save_and_load.py:204: UserWarning: Setting `save_embedding_layers` to `True` as embedding layers found in `target_modules`.\n",
            "  warnings.warn(\"Setting `save_embedding_layers` to `True` as embedding layers found in `target_modules`.\")\n",
            "/usr/local/lib/python3.11/dist-packages/torch/_dynamo/eval_frame.py:600: UserWarning: torch.utils.checkpoint: the use_reentrant parameter should be passed explicitly. In version 2.4 we will raise an exception if use_reentrant is not passed. use_reentrant=False is recommended, but if you need to preserve the current default behavior, you can pass use_reentrant=True. Refer to docs for more details on the differences between the two variants.\n",
            "  return fn(*args, **kwargs)\n",
            "/usr/local/lib/python3.11/dist-packages/torch/utils/checkpoint.py:295: FutureWarning: `torch.cpu.amp.autocast(args...)` is deprecated. Please use `torch.amp.autocast('cpu', args...)` instead.\n",
            "  with torch.enable_grad(), device_autocast_ctx, torch.cpu.amp.autocast(**ctx.cpu_autocast_kwargs):  # type: ignore[attr-defined]\n",
            "/usr/local/lib/python3.11/dist-packages/peft/utils/save_and_load.py:204: UserWarning: Setting `save_embedding_layers` to `True` as embedding layers found in `target_modules`.\n",
            "  warnings.warn(\"Setting `save_embedding_layers` to `True` as embedding layers found in `target_modules`.\")\n",
            "/usr/local/lib/python3.11/dist-packages/torch/_dynamo/eval_frame.py:600: UserWarning: torch.utils.checkpoint: the use_reentrant parameter should be passed explicitly. In version 2.4 we will raise an exception if use_reentrant is not passed. use_reentrant=False is recommended, but if you need to preserve the current default behavior, you can pass use_reentrant=True. Refer to docs for more details on the differences between the two variants.\n",
            "  return fn(*args, **kwargs)\n",
            "/usr/local/lib/python3.11/dist-packages/torch/utils/checkpoint.py:295: FutureWarning: `torch.cpu.amp.autocast(args...)` is deprecated. Please use `torch.amp.autocast('cpu', args...)` instead.\n",
            "  with torch.enable_grad(), device_autocast_ctx, torch.cpu.amp.autocast(**ctx.cpu_autocast_kwargs):  # type: ignore[attr-defined]\n",
            "/usr/local/lib/python3.11/dist-packages/peft/utils/save_and_load.py:204: UserWarning: Setting `save_embedding_layers` to `True` as embedding layers found in `target_modules`.\n",
            "  warnings.warn(\"Setting `save_embedding_layers` to `True` as embedding layers found in `target_modules`.\")\n",
            "/usr/local/lib/python3.11/dist-packages/torch/_dynamo/eval_frame.py:600: UserWarning: torch.utils.checkpoint: the use_reentrant parameter should be passed explicitly. In version 2.4 we will raise an exception if use_reentrant is not passed. use_reentrant=False is recommended, but if you need to preserve the current default behavior, you can pass use_reentrant=True. Refer to docs for more details on the differences between the two variants.\n",
            "  return fn(*args, **kwargs)\n",
            "/usr/local/lib/python3.11/dist-packages/torch/utils/checkpoint.py:295: FutureWarning: `torch.cpu.amp.autocast(args...)` is deprecated. Please use `torch.amp.autocast('cpu', args...)` instead.\n",
            "  with torch.enable_grad(), device_autocast_ctx, torch.cpu.amp.autocast(**ctx.cpu_autocast_kwargs):  # type: ignore[attr-defined]\n",
            "/usr/local/lib/python3.11/dist-packages/peft/utils/save_and_load.py:204: UserWarning: Setting `save_embedding_layers` to `True` as embedding layers found in `target_modules`.\n",
            "  warnings.warn(\"Setting `save_embedding_layers` to `True` as embedding layers found in `target_modules`.\")\n",
            "/usr/local/lib/python3.11/dist-packages/torch/_dynamo/eval_frame.py:600: UserWarning: torch.utils.checkpoint: the use_reentrant parameter should be passed explicitly. In version 2.4 we will raise an exception if use_reentrant is not passed. use_reentrant=False is recommended, but if you need to preserve the current default behavior, you can pass use_reentrant=True. Refer to docs for more details on the differences between the two variants.\n",
            "  return fn(*args, **kwargs)\n",
            "/usr/local/lib/python3.11/dist-packages/torch/utils/checkpoint.py:295: FutureWarning: `torch.cpu.amp.autocast(args...)` is deprecated. Please use `torch.amp.autocast('cpu', args...)` instead.\n",
            "  with torch.enable_grad(), device_autocast_ctx, torch.cpu.amp.autocast(**ctx.cpu_autocast_kwargs):  # type: ignore[attr-defined]\n",
            "/usr/local/lib/python3.11/dist-packages/peft/utils/save_and_load.py:204: UserWarning: Setting `save_embedding_layers` to `True` as embedding layers found in `target_modules`.\n",
            "  warnings.warn(\"Setting `save_embedding_layers` to `True` as embedding layers found in `target_modules`.\")\n",
            "/usr/local/lib/python3.11/dist-packages/torch/_dynamo/eval_frame.py:600: UserWarning: torch.utils.checkpoint: the use_reentrant parameter should be passed explicitly. In version 2.4 we will raise an exception if use_reentrant is not passed. use_reentrant=False is recommended, but if you need to preserve the current default behavior, you can pass use_reentrant=True. Refer to docs for more details on the differences between the two variants.\n",
            "  return fn(*args, **kwargs)\n",
            "/usr/local/lib/python3.11/dist-packages/torch/utils/checkpoint.py:295: FutureWarning: `torch.cpu.amp.autocast(args...)` is deprecated. Please use `torch.amp.autocast('cpu', args...)` instead.\n",
            "  with torch.enable_grad(), device_autocast_ctx, torch.cpu.amp.autocast(**ctx.cpu_autocast_kwargs):  # type: ignore[attr-defined]\n",
            "/usr/local/lib/python3.11/dist-packages/peft/utils/save_and_load.py:204: UserWarning: Setting `save_embedding_layers` to `True` as embedding layers found in `target_modules`.\n",
            "  warnings.warn(\"Setting `save_embedding_layers` to `True` as embedding layers found in `target_modules`.\")\n",
            "/usr/local/lib/python3.11/dist-packages/torch/_dynamo/eval_frame.py:600: UserWarning: torch.utils.checkpoint: the use_reentrant parameter should be passed explicitly. In version 2.4 we will raise an exception if use_reentrant is not passed. use_reentrant=False is recommended, but if you need to preserve the current default behavior, you can pass use_reentrant=True. Refer to docs for more details on the differences between the two variants.\n",
            "  return fn(*args, **kwargs)\n",
            "/usr/local/lib/python3.11/dist-packages/torch/utils/checkpoint.py:295: FutureWarning: `torch.cpu.amp.autocast(args...)` is deprecated. Please use `torch.amp.autocast('cpu', args...)` instead.\n",
            "  with torch.enable_grad(), device_autocast_ctx, torch.cpu.amp.autocast(**ctx.cpu_autocast_kwargs):  # type: ignore[attr-defined]\n",
            "/usr/local/lib/python3.11/dist-packages/peft/utils/save_and_load.py:204: UserWarning: Setting `save_embedding_layers` to `True` as embedding layers found in `target_modules`.\n",
            "  warnings.warn(\"Setting `save_embedding_layers` to `True` as embedding layers found in `target_modules`.\")\n",
            "/usr/local/lib/python3.11/dist-packages/torch/_dynamo/eval_frame.py:600: UserWarning: torch.utils.checkpoint: the use_reentrant parameter should be passed explicitly. In version 2.4 we will raise an exception if use_reentrant is not passed. use_reentrant=False is recommended, but if you need to preserve the current default behavior, you can pass use_reentrant=True. Refer to docs for more details on the differences between the two variants.\n",
            "  return fn(*args, **kwargs)\n",
            "/usr/local/lib/python3.11/dist-packages/torch/utils/checkpoint.py:295: FutureWarning: `torch.cpu.amp.autocast(args...)` is deprecated. Please use `torch.amp.autocast('cpu', args...)` instead.\n",
            "  with torch.enable_grad(), device_autocast_ctx, torch.cpu.amp.autocast(**ctx.cpu_autocast_kwargs):  # type: ignore[attr-defined]\n",
            "/usr/local/lib/python3.11/dist-packages/peft/utils/save_and_load.py:204: UserWarning: Setting `save_embedding_layers` to `True` as embedding layers found in `target_modules`.\n",
            "  warnings.warn(\"Setting `save_embedding_layers` to `True` as embedding layers found in `target_modules`.\")\n",
            "/usr/local/lib/python3.11/dist-packages/torch/_dynamo/eval_frame.py:600: UserWarning: torch.utils.checkpoint: the use_reentrant parameter should be passed explicitly. In version 2.4 we will raise an exception if use_reentrant is not passed. use_reentrant=False is recommended, but if you need to preserve the current default behavior, you can pass use_reentrant=True. Refer to docs for more details on the differences between the two variants.\n",
            "  return fn(*args, **kwargs)\n",
            "/usr/local/lib/python3.11/dist-packages/torch/utils/checkpoint.py:295: FutureWarning: `torch.cpu.amp.autocast(args...)` is deprecated. Please use `torch.amp.autocast('cpu', args...)` instead.\n",
            "  with torch.enable_grad(), device_autocast_ctx, torch.cpu.amp.autocast(**ctx.cpu_autocast_kwargs):  # type: ignore[attr-defined]\n",
            "/usr/local/lib/python3.11/dist-packages/peft/utils/save_and_load.py:204: UserWarning: Setting `save_embedding_layers` to `True` as embedding layers found in `target_modules`.\n",
            "  warnings.warn(\"Setting `save_embedding_layers` to `True` as embedding layers found in `target_modules`.\")\n",
            "/usr/local/lib/python3.11/dist-packages/torch/_dynamo/eval_frame.py:600: UserWarning: torch.utils.checkpoint: the use_reentrant parameter should be passed explicitly. In version 2.4 we will raise an exception if use_reentrant is not passed. use_reentrant=False is recommended, but if you need to preserve the current default behavior, you can pass use_reentrant=True. Refer to docs for more details on the differences between the two variants.\n",
            "  return fn(*args, **kwargs)\n",
            "/usr/local/lib/python3.11/dist-packages/torch/utils/checkpoint.py:295: FutureWarning: `torch.cpu.amp.autocast(args...)` is deprecated. Please use `torch.amp.autocast('cpu', args...)` instead.\n",
            "  with torch.enable_grad(), device_autocast_ctx, torch.cpu.amp.autocast(**ctx.cpu_autocast_kwargs):  # type: ignore[attr-defined]\n",
            "/usr/local/lib/python3.11/dist-packages/peft/utils/save_and_load.py:204: UserWarning: Setting `save_embedding_layers` to `True` as embedding layers found in `target_modules`.\n",
            "  warnings.warn(\"Setting `save_embedding_layers` to `True` as embedding layers found in `target_modules`.\")\n",
            "/usr/local/lib/python3.11/dist-packages/torch/_dynamo/eval_frame.py:600: UserWarning: torch.utils.checkpoint: the use_reentrant parameter should be passed explicitly. In version 2.4 we will raise an exception if use_reentrant is not passed. use_reentrant=False is recommended, but if you need to preserve the current default behavior, you can pass use_reentrant=True. Refer to docs for more details on the differences between the two variants.\n",
            "  return fn(*args, **kwargs)\n",
            "/usr/local/lib/python3.11/dist-packages/torch/utils/checkpoint.py:295: FutureWarning: `torch.cpu.amp.autocast(args...)` is deprecated. Please use `torch.amp.autocast('cpu', args...)` instead.\n",
            "  with torch.enable_grad(), device_autocast_ctx, torch.cpu.amp.autocast(**ctx.cpu_autocast_kwargs):  # type: ignore[attr-defined]\n",
            "/usr/local/lib/python3.11/dist-packages/peft/utils/save_and_load.py:204: UserWarning: Setting `save_embedding_layers` to `True` as embedding layers found in `target_modules`.\n",
            "  warnings.warn(\"Setting `save_embedding_layers` to `True` as embedding layers found in `target_modules`.\")\n",
            "/usr/local/lib/python3.11/dist-packages/torch/_dynamo/eval_frame.py:600: UserWarning: torch.utils.checkpoint: the use_reentrant parameter should be passed explicitly. In version 2.4 we will raise an exception if use_reentrant is not passed. use_reentrant=False is recommended, but if you need to preserve the current default behavior, you can pass use_reentrant=True. Refer to docs for more details on the differences between the two variants.\n",
            "  return fn(*args, **kwargs)\n",
            "/usr/local/lib/python3.11/dist-packages/torch/utils/checkpoint.py:295: FutureWarning: `torch.cpu.amp.autocast(args...)` is deprecated. Please use `torch.amp.autocast('cpu', args...)` instead.\n",
            "  with torch.enable_grad(), device_autocast_ctx, torch.cpu.amp.autocast(**ctx.cpu_autocast_kwargs):  # type: ignore[attr-defined]\n",
            "/usr/local/lib/python3.11/dist-packages/peft/utils/save_and_load.py:204: UserWarning: Setting `save_embedding_layers` to `True` as embedding layers found in `target_modules`.\n",
            "  warnings.warn(\"Setting `save_embedding_layers` to `True` as embedding layers found in `target_modules`.\")\n",
            "/usr/local/lib/python3.11/dist-packages/torch/_dynamo/eval_frame.py:600: UserWarning: torch.utils.checkpoint: the use_reentrant parameter should be passed explicitly. In version 2.4 we will raise an exception if use_reentrant is not passed. use_reentrant=False is recommended, but if you need to preserve the current default behavior, you can pass use_reentrant=True. Refer to docs for more details on the differences between the two variants.\n",
            "  return fn(*args, **kwargs)\n",
            "/usr/local/lib/python3.11/dist-packages/torch/utils/checkpoint.py:295: FutureWarning: `torch.cpu.amp.autocast(args...)` is deprecated. Please use `torch.amp.autocast('cpu', args...)` instead.\n",
            "  with torch.enable_grad(), device_autocast_ctx, torch.cpu.amp.autocast(**ctx.cpu_autocast_kwargs):  # type: ignore[attr-defined]\n",
            "/usr/local/lib/python3.11/dist-packages/peft/utils/save_and_load.py:204: UserWarning: Setting `save_embedding_layers` to `True` as embedding layers found in `target_modules`.\n",
            "  warnings.warn(\"Setting `save_embedding_layers` to `True` as embedding layers found in `target_modules`.\")\n",
            "/usr/local/lib/python3.11/dist-packages/torch/_dynamo/eval_frame.py:600: UserWarning: torch.utils.checkpoint: the use_reentrant parameter should be passed explicitly. In version 2.4 we will raise an exception if use_reentrant is not passed. use_reentrant=False is recommended, but if you need to preserve the current default behavior, you can pass use_reentrant=True. Refer to docs for more details on the differences between the two variants.\n",
            "  return fn(*args, **kwargs)\n",
            "/usr/local/lib/python3.11/dist-packages/torch/utils/checkpoint.py:295: FutureWarning: `torch.cpu.amp.autocast(args...)` is deprecated. Please use `torch.amp.autocast('cpu', args...)` instead.\n",
            "  with torch.enable_grad(), device_autocast_ctx, torch.cpu.amp.autocast(**ctx.cpu_autocast_kwargs):  # type: ignore[attr-defined]\n",
            "/usr/local/lib/python3.11/dist-packages/peft/utils/save_and_load.py:204: UserWarning: Setting `save_embedding_layers` to `True` as embedding layers found in `target_modules`.\n",
            "  warnings.warn(\"Setting `save_embedding_layers` to `True` as embedding layers found in `target_modules`.\")\n"
          ]
        },
        {
          "data": {
            "text/plain": [
              "TrainOutput(global_step=1000, training_loss=0.5147548580169677, metrics={'train_runtime': 13883.8064, 'train_samples_per_second': 0.576, 'train_steps_per_second': 0.072, 'total_flos': 3.50548150714368e+17, 'train_loss': 0.5147548580169677, 'epoch': 3.3333333333333335})"
            ]
          },
          "execution_count": 23,
          "metadata": {},
          "output_type": "execute_result"
        }
      ],
      "source": [
        "import transformers\n",
        "from datetime import datetime\n",
        "\n",
        "tokenizer.pad_token = tokenizer.unk_token\n",
        "\n",
        "t_args = transformers.TrainingArguments(\n",
        "    output_dir=\"Prova1\",\n",
        "    warmup_steps=5,\n",
        "    per_device_train_batch_size=2,\n",
        "    gradient_checkpointing=True,\n",
        "    gradient_accumulation_steps=4,\n",
        "    max_steps=1000,\n",
        "    learning_rate=2.5e-5, # Want about 10x smaller than the Mistral learning rate\n",
        "    logging_steps=50,\n",
        "    bf16=True,\n",
        "    optim=\"paged_adamw_8bit\",\n",
        "    logging_dir=\"./logs\",        # Directory for storing logs\n",
        "    save_strategy=\"steps\",       # Save the model checkpoint every logging step\n",
        "    save_steps=50,                # Save checkpoints every 50 steps\n",
        "    eval_strategy=\"steps\", # Evaluate the model every logging step\n",
        "    eval_steps=50               # Evaluate and save checkpoints every 50 steps\n",
        "    #do_eval=True,                # Perform evaluation at the end of training\n",
        ")\n",
        "\n",
        "trainer = transformers.Trainer(\n",
        "    model=model,\n",
        "    train_dataset=tokenized_train_dataset,\n",
        "    eval_dataset=tokenized_val_dataset,\n",
        "    args= t_args,\n",
        "    data_collator=transformers.DataCollatorForLanguageModeling(tokenizer, mlm=False),\n",
        ")\n",
        "\n",
        "# Silence the warnings\n",
        "model.config.use_cache = False\n",
        "trainer.train()"
      ]
    },
    {
      "cell_type": "markdown",
      "source": [
        "# Fine-tuning for Few Shot prompting\n",
        "We are now going to repeat the exact same operations, but using the dataset containing in its observations examples."
      ],
      "metadata": {
        "id": "pgza7baWPhkG"
      }
    },
    {
      "cell_type": "markdown",
      "metadata": {
        "id": "ySzz3zaZPeNV"
      },
      "source": [
        "## Load Dataset and Model"
      ]
    },
    {
      "cell_type": "code",
      "execution_count": null,
      "metadata": {
        "id": "fqrhL1vEPeNW",
        "outputId": "37b6fcaa-a966-4b40-eff3-4a341e9a81f5",
        "colab": {
          "referenced_widgets": [
            "a095d514c79b432d9543a6a5a89ff6ac",
            "d7e6de51bbb64bfea5c7e90dcddb644b",
            "b08bda1e5b5d4c7ca77a242fc111897a",
            "5721e5c177e948f7ad968b95e71a2eeb"
          ]
        }
      },
      "outputs": [
        {
          "data": {
            "application/vnd.jupyter.widget-view+json": {
              "model_id": "a095d514c79b432d9543a6a5a89ff6ac",
              "version_major": 2,
              "version_minor": 0
            },
            "text/plain": [
              "Downloading data:   0%|          | 0.00/5.85M [00:00<?, ?B/s]"
            ]
          },
          "metadata": {},
          "output_type": "display_data"
        },
        {
          "data": {
            "application/vnd.jupyter.widget-view+json": {
              "model_id": "d7e6de51bbb64bfea5c7e90dcddb644b",
              "version_major": 2,
              "version_minor": 0
            },
            "text/plain": [
              "Downloading data:   0%|          | 0.00/955k [00:00<?, ?B/s]"
            ]
          },
          "metadata": {},
          "output_type": "display_data"
        },
        {
          "data": {
            "application/vnd.jupyter.widget-view+json": {
              "model_id": "b08bda1e5b5d4c7ca77a242fc111897a",
              "version_major": 2,
              "version_minor": 0
            },
            "text/plain": [
              "Generating train split: 0 examples [00:00, ? examples/s]"
            ]
          },
          "metadata": {},
          "output_type": "display_data"
        },
        {
          "data": {
            "application/vnd.jupyter.widget-view+json": {
              "model_id": "5721e5c177e948f7ad968b95e71a2eeb",
              "version_major": 2,
              "version_minor": 0
            },
            "text/plain": [
              "Generating test split: 0 examples [00:00, ? examples/s]"
            ]
          },
          "metadata": {},
          "output_type": "display_data"
        },
        {
          "name": "stdout",
          "output_type": "stream",
          "text": [
            "DatasetDict({\n",
            "    train: Dataset({\n",
            "        features: ['0'],\n",
            "        num_rows: 2400\n",
            "    })\n",
            "    test: Dataset({\n",
            "        features: ['0'],\n",
            "        num_rows: 400\n",
            "    })\n",
            "})\n"
          ]
        }
      ],
      "source": [
        "# Load Dataset\n",
        "data = load_dataset(\"Giardooo/KG_constructor_FS\")\n",
        "print(data)"
      ]
    },
    {
      "cell_type": "code",
      "execution_count": null,
      "metadata": {
        "id": "PBjwYIB5PeNW",
        "outputId": "a868c7bc-9c7b-43a7-f573-6c65a64b7831",
        "colab": {
          "referenced_widgets": [
            "1ea3b9fde2604cb88d7df947bc4b356f"
          ]
        }
      },
      "outputs": [
        {
          "data": {
            "application/vnd.jupyter.widget-view+json": {
              "model_id": "1ea3b9fde2604cb88d7df947bc4b356f",
              "version_major": 2,
              "version_minor": 0
            },
            "text/plain": [
              "VBox(children=(HTML(value='<center> <img\\nsrc=https://huggingface.co/front/assets/huggingface_logo-noborder.sv…"
            ]
          },
          "metadata": {},
          "output_type": "display_data"
        }
      ],
      "source": [
        "# Login to Hugginface\n",
        "notebook_login()"
      ]
    },
    {
      "cell_type": "code",
      "execution_count": null,
      "metadata": {
        "id": "vdchGAU3PeNX",
        "outputId": "333f732a-33ca-4914-a262-9bc848aec355",
        "colab": {
          "referenced_widgets": [
            "1613f4e6a69e4cf691cff71ac54cfb81",
            "d3369eafe2794697a13754a351bc1b44",
            "3050152832234c2aa7aa894b7e62aeff",
            "1d89b75889144227901b278c9fa93f5c",
            "3e442183ea6c4e2985795183b69e02bd",
            "235616c881c243ea8bac782da67e238d",
            "f84e0a52fbfa4bf8b0b2d96e949687c0"
          ]
        }
      },
      "outputs": [
        {
          "data": {
            "application/vnd.jupyter.widget-view+json": {
              "model_id": "1613f4e6a69e4cf691cff71ac54cfb81",
              "version_major": 2,
              "version_minor": 0
            },
            "text/plain": [
              "config.json:   0%|          | 0.00/571 [00:00<?, ?B/s]"
            ]
          },
          "metadata": {},
          "output_type": "display_data"
        },
        {
          "name": "stderr",
          "output_type": "stream",
          "text": [
            "`low_cpu_mem_usage` was None, now set to True since model is quantized.\n"
          ]
        },
        {
          "data": {
            "application/vnd.jupyter.widget-view+json": {
              "model_id": "d3369eafe2794697a13754a351bc1b44",
              "version_major": 2,
              "version_minor": 0
            },
            "text/plain": [
              "model.safetensors.index.json:   0%|          | 0.00/25.1k [00:00<?, ?B/s]"
            ]
          },
          "metadata": {},
          "output_type": "display_data"
        },
        {
          "data": {
            "application/vnd.jupyter.widget-view+json": {
              "model_id": "3050152832234c2aa7aa894b7e62aeff",
              "version_major": 2,
              "version_minor": 0
            },
            "text/plain": [
              "Downloading shards:   0%|          | 0/2 [00:00<?, ?it/s]"
            ]
          },
          "metadata": {},
          "output_type": "display_data"
        },
        {
          "data": {
            "application/vnd.jupyter.widget-view+json": {
              "model_id": "1d89b75889144227901b278c9fa93f5c",
              "version_major": 2,
              "version_minor": 0
            },
            "text/plain": [
              "model-00001-of-00002.safetensors:   0%|          | 0.00/9.94G [00:00<?, ?B/s]"
            ]
          },
          "metadata": {},
          "output_type": "display_data"
        },
        {
          "data": {
            "application/vnd.jupyter.widget-view+json": {
              "model_id": "3e442183ea6c4e2985795183b69e02bd",
              "version_major": 2,
              "version_minor": 0
            },
            "text/plain": [
              "model-00002-of-00002.safetensors:   0%|          | 0.00/4.54G [00:00<?, ?B/s]"
            ]
          },
          "metadata": {},
          "output_type": "display_data"
        },
        {
          "data": {
            "application/vnd.jupyter.widget-view+json": {
              "model_id": "235616c881c243ea8bac782da67e238d",
              "version_major": 2,
              "version_minor": 0
            },
            "text/plain": [
              "Loading checkpoint shards:   0%|          | 0/2 [00:00<?, ?it/s]"
            ]
          },
          "metadata": {},
          "output_type": "display_data"
        },
        {
          "data": {
            "application/vnd.jupyter.widget-view+json": {
              "model_id": "f84e0a52fbfa4bf8b0b2d96e949687c0",
              "version_major": 2,
              "version_minor": 0
            },
            "text/plain": [
              "generation_config.json:   0%|          | 0.00/116 [00:00<?, ?B/s]"
            ]
          },
          "metadata": {},
          "output_type": "display_data"
        }
      ],
      "source": [
        "# Load Model\n",
        "base_model_id = \"mistralai/Mistral-7B-Instruct-v0.1\"\n",
        "bnb_config = BitsAndBytesConfig(\n",
        "    # Load the 4 bit quantized model\n",
        "    load_in_4bit=True,\n",
        "    # Use nested quantization\n",
        "    bnb_4bit_use_double_quant=True,\n",
        "    # Define the quantization data type to NF4\n",
        "    bnb_4bit_quant_type=\"nf4\",\n",
        "    # Set the computational type to bf16 for speed-up\n",
        "    bnb_4bit_compute_dtype=torch.bfloat16\n",
        ")\n",
        "\n",
        "model = AutoModelForCausalLM.from_pretrained(base_model_id, quantization_config=bnb_config)"
      ]
    },
    {
      "cell_type": "markdown",
      "metadata": {
        "id": "dBq7MwXOPeNX"
      },
      "source": [
        "## Set up the tokenizer"
      ]
    },
    {
      "cell_type": "code",
      "execution_count": null,
      "metadata": {
        "id": "KTDb6SXxPeNY",
        "outputId": "139c3367-d5bc-4cec-f721-1b3f2243932f",
        "colab": {
          "referenced_widgets": [
            "72cfe3022a3e4ace8eb9b5b75c502cb7",
            "98e4d03c51a64b86b6d1fc6e4502c303",
            "1a51b7eb80f84cdeb3c6002bff8b91e7",
            "cbcdc573b6f246c3b66e8d74c30a875a"
          ]
        }
      },
      "outputs": [
        {
          "data": {
            "application/vnd.jupyter.widget-view+json": {
              "model_id": "72cfe3022a3e4ace8eb9b5b75c502cb7",
              "version_major": 2,
              "version_minor": 0
            },
            "text/plain": [
              "tokenizer_config.json:   0%|          | 0.00/2.10k [00:00<?, ?B/s]"
            ]
          },
          "metadata": {},
          "output_type": "display_data"
        },
        {
          "data": {
            "application/vnd.jupyter.widget-view+json": {
              "model_id": "98e4d03c51a64b86b6d1fc6e4502c303",
              "version_major": 2,
              "version_minor": 0
            },
            "text/plain": [
              "tokenizer.model:   0%|          | 0.00/493k [00:00<?, ?B/s]"
            ]
          },
          "metadata": {},
          "output_type": "display_data"
        },
        {
          "data": {
            "application/vnd.jupyter.widget-view+json": {
              "model_id": "1a51b7eb80f84cdeb3c6002bff8b91e7",
              "version_major": 2,
              "version_minor": 0
            },
            "text/plain": [
              "tokenizer.json:   0%|          | 0.00/1.80M [00:00<?, ?B/s]"
            ]
          },
          "metadata": {},
          "output_type": "display_data"
        },
        {
          "data": {
            "application/vnd.jupyter.widget-view+json": {
              "model_id": "cbcdc573b6f246c3b66e8d74c30a875a",
              "version_major": 2,
              "version_minor": 0
            },
            "text/plain": [
              "special_tokens_map.json:   0%|          | 0.00/414 [00:00<?, ?B/s]"
            ]
          },
          "metadata": {},
          "output_type": "display_data"
        }
      ],
      "source": [
        "# Set up tokenizer without max tokens\n",
        "tokenizer = AutoTokenizer.from_pretrained(\n",
        "    # Set up Mistral tokenizer\n",
        "    base_model_id,\n",
        "    # Since Mistral is decoder-only, left pad is preferred\n",
        "    padding_side=\"left\",\n",
        "    # End Of Sequence token\n",
        "    add_eos_token=True)\n",
        "\n",
        "# Set pad token to unk_token\n",
        "# The default pad_token = eos_token results in the LLM forgetting the appropriate usage of the eos token, making it never stop generating text\n",
        "tokenizer.pad_token = tokenizer.unk_token\n",
        "\n",
        "def tokenize(examples):\n",
        "    # Extract the column of the dataset containing the text\n",
        "    text = examples[\"0\"]\n",
        "    result = tokenizer(\n",
        "        text,\n",
        "        # truncation=True,\n",
        "    )\n",
        "    result[\"labels\"] = result[\"input_ids\"].copy()\n",
        "    return result"
      ]
    },
    {
      "cell_type": "code",
      "execution_count": null,
      "metadata": {
        "id": "Fjiopv-XPeNY",
        "outputId": "55a52dbf-b5a5-48d3-9e69-50f382ac542a",
        "colab": {
          "referenced_widgets": [
            "51f42a6379704fc082c0b26d6e742245",
            "14a49788121641c7b90d6e2516be21c8"
          ]
        }
      },
      "outputs": [
        {
          "data": {
            "application/vnd.jupyter.widget-view+json": {
              "model_id": "51f42a6379704fc082c0b26d6e742245",
              "version_major": 2,
              "version_minor": 0
            },
            "text/plain": [
              "Map:   0%|          | 0/2400 [00:00<?, ? examples/s]"
            ]
          },
          "metadata": {},
          "output_type": "display_data"
        },
        {
          "data": {
            "application/vnd.jupyter.widget-view+json": {
              "model_id": "14a49788121641c7b90d6e2516be21c8",
              "version_major": 2,
              "version_minor": 0
            },
            "text/plain": [
              "Map:   0%|          | 0/400 [00:00<?, ? examples/s]"
            ]
          },
          "metadata": {},
          "output_type": "display_data"
        }
      ],
      "source": [
        "# Tokenize the dataset\n",
        "tokenized_data = data.map(tokenize, batched=True)"
      ]
    },
    {
      "cell_type": "markdown",
      "metadata": {
        "id": "hN_cLpz1PeNZ"
      },
      "source": [
        "# Choose max_length\n",
        "Let's check the length (in token) of our observations. In this way we are going to choose the max_length parameter of our tokenizer.<br>\n",
        "Of course, we expect that the length of our observatins is greater than before, since we added 3 examples in each of them"
      ]
    },
    {
      "cell_type": "code",
      "execution_count": null,
      "metadata": {
        "id": "IFKlK742PeNZ"
      },
      "outputs": [],
      "source": [
        "import matplotlib.pyplot as plt"
      ]
    },
    {
      "cell_type": "code",
      "execution_count": null,
      "metadata": {
        "id": "zPbx7-4QPeNZ",
        "outputId": "48725319-6803-42cc-e601-685fbf027174"
      },
      "outputs": [
        {
          "name": "stdout",
          "output_type": "stream",
          "text": [
            "2800\n"
          ]
        },
        {
          "data": {
            "image/png": "[encoded data removed]",
            "text/plain": [
              "<Figure size 1000x600 with 1 Axes>"
            ]
          },
          "metadata": {},
          "output_type": "display_data"
        }
      ],
      "source": [
        "def plot_data_lengths(train, val):\n",
        "    lengths = [len(x['input_ids']) for x in train]\n",
        "    lengths += [len(x['input_ids']) for x in val]\n",
        "    print(len(lengths))\n",
        "\n",
        "    # Plotting the histogram\n",
        "    plt.figure(figsize=(10, 6))\n",
        "    plt.hist(lengths, bins=20, alpha=0.7, color='blue')\n",
        "    plt.xlabel('Num of tokens')\n",
        "    plt.ylabel('Frequency')\n",
        "    plt.title('Distribution of Num of tokens')\n",
        "    plt.show()\n",
        "\n",
        "plot_data_lengths(tokenized_data['train'], tokenized_data['test'])"
      ]
    },
    {
      "cell_type": "markdown",
      "metadata": {
        "id": "zYNFj0qwPeNa"
      },
      "source": [
        "As we expected, the observations got lengthier. Now, 3072 seems a reasonable max_length for our tokenizer."
      ]
    },
    {
      "cell_type": "code",
      "execution_count": null,
      "metadata": {
        "id": "pd8ZrYjiPeNa",
        "outputId": "430159de-b647-4d49-a267-0ce0de65225a",
        "colab": {
          "referenced_widgets": [
            "309ac192da6f46a6bcf330864dd6446d",
            "baab866d789c4c3ca690404f5e43fb89"
          ]
        }
      },
      "outputs": [
        {
          "data": {
            "application/vnd.jupyter.widget-view+json": {
              "model_id": "309ac192da6f46a6bcf330864dd6446d",
              "version_major": 2,
              "version_minor": 0
            },
            "text/plain": [
              "Map:   0%|          | 0/2400 [00:00<?, ? examples/s]"
            ]
          },
          "metadata": {},
          "output_type": "display_data"
        },
        {
          "data": {
            "application/vnd.jupyter.widget-view+json": {
              "model_id": "baab866d789c4c3ca690404f5e43fb89",
              "version_major": 2,
              "version_minor": 0
            },
            "text/plain": [
              "Map:   0%|          | 0/400 [00:00<?, ? examples/s]"
            ]
          },
          "metadata": {},
          "output_type": "display_data"
        }
      ],
      "source": [
        "# Retokenize the data with a max length of 3072\n",
        "tokenizer = AutoTokenizer.from_pretrained(\n",
        "    base_model_id,\n",
        "    model_max_length=3072,\n",
        "    padding_side=\"left\",)\n",
        "#    add_eos_token=True)\n",
        "\n",
        "tokenizer.pad_token = tokenizer.unk_token\n",
        "\n",
        "def tokenize(examples):\n",
        "    text = examples[\"0\"]\n",
        "    result = tokenizer(\n",
        "        text,\n",
        "        truncation=True,\n",
        "        max_length=3072,\n",
        "        padding=\"max_length\",\n",
        "    )\n",
        "    result[\"labels\"] = result[\"input_ids\"].copy()\n",
        "    return result\n",
        "\n",
        "tokenized_data = data.map(tokenize, batched=True)"
      ]
    },
    {
      "cell_type": "code",
      "execution_count": null,
      "metadata": {
        "id": "52iTztC9PeNa"
      },
      "outputs": [],
      "source": [
        "tokenized_train_dataset = tokenized_data['train']\n",
        "tokenized_val_dataset = tokenized_data['test']"
      ]
    },
    {
      "cell_type": "code",
      "execution_count": null,
      "metadata": {
        "scrolled": true,
        "id": "E1AInJvnPeNb",
        "outputId": "2ef5194a-dd78-454e-aa2f-97c628b4aef5"
      },
      "outputs": [
        {
          "name": "stdout",
          "output_type": "stream",
          "text": [
            "[0, 0, 0, 0, 0, 0, 0, 0, 0, 0, 0, 0, 0, 0, 0, 0, 0, 0, 0, 0, 0, 0, 0, 0, 0, 0, 0, 0, 0, 0, 0, 0, 0, 0, 0, 0, 0, 0, 0, 0, 0, 0, 0, 0, 0, 0, 0, 0, 0, 0, 0, 0, 0, 0, 0, 0, 0, 0, 0, 0, 0, 0, 0, 0, 0, 0, 0, 0, 0, 0, 0, 0, 0, 0, 0, 0, 0, 0, 0, 0, 0, 0, 0, 0, 0, 0, 0, 0, 0, 0, 0, 0, 0, 0, 0, 0, 0, 0, 0, 0, 0, 0, 0, 0, 0, 0, 0, 0, 0, 0, 0, 0, 0, 0, 0, 0, 0, 0, 0, 0, 0, 0, 0, 0, 0, 0, 0, 0, 0, 0, 0, 0, 0, 0, 0, 0, 0, 0, 0, 0, 0, 0, 0, 0, 0, 0, 0, 0, 0, 0, 0, 0, 0, 0, 0, 0, 0, 0, 0, 0, 0, 0, 0, 0, 0, 0, 0, 0, 0, 0, 0, 0, 0, 0, 0, 0, 0, 0, 0, 0, 0, 0, 0, 0, 0, 0, 0, 0, 0, 0, 0, 0, 0, 0, 0, 0, 0, 0, 0, 0, 0, 0, 0, 0, 0, 0, 0, 0, 0, 0, 0, 0, 0, 0, 0, 0, 0, 0, 0, 0, 0, 0, 0, 0, 0, 0, 0, 0, 0, 0, 0, 0, 0, 0, 0, 0, 0, 0, 0, 0, 0, 0, 0, 0, 0, 0, 0, 0, 0, 0, 0, 0, 0, 0, 0, 0, 0, 0, 0, 0, 0, 0, 0, 0, 0, 0, 0, 0, 0, 0, 0, 0, 0, 0, 0, 0, 0, 0, 0, 0, 0, 0, 0, 0, 0, 0, 0, 0, 0, 0, 0, 0, 0, 0, 0, 0, 0, 0, 0, 0, 0, 0, 0, 0, 0, 0, 0, 0, 0, 0, 0, 0, 0, 0, 0, 0, 0, 0, 0, 0, 0, 0, 0, 0, 0, 0, 0, 0, 0, 0, 0, 0, 0, 0, 0, 0, 0, 0, 0, 0, 0, 0, 0, 0, 0, 0, 0, 0, 0, 0, 0, 0, 0, 0, 0, 0, 0, 0, 0, 0, 0, 0, 0, 0, 0, 0, 0, 0, 0, 0, 0, 0, 0, 0, 0, 0, 0, 0, 0, 0, 0, 0, 0, 0, 0, 0, 0, 0, 0, 0, 0, 0, 0, 0, 0, 0, 0, 0, 0, 0, 0, 0, 0, 0, 0, 0, 0, 0, 0, 0, 0, 0, 0, 0, 0, 0, 0, 0, 0, 0, 0, 0, 0, 0, 0, 0, 0, 0, 0, 0, 0, 0, 0, 0, 0, 0, 0, 0, 0, 0, 0, 0, 0, 0, 0, 0, 0, 0, 0, 0, 0, 0, 0, 0, 0, 0, 0, 0, 0, 0, 0, 0, 0, 0, 0, 0, 0, 0, 0, 0, 0, 0, 0, 0, 0, 0, 0, 0, 0, 0, 0, 0, 0, 0, 0, 0, 0, 0, 0, 0, 0, 0, 0, 0, 0, 0, 0, 0, 0, 0, 0, 0, 0, 0, 0, 0, 0, 0, 0, 0, 0, 0, 0, 0, 0, 0, 0, 0, 0, 0, 0, 0, 0, 0, 0, 0, 0, 0, 0, 0, 0, 0, 0, 0, 0, 0, 0, 0, 0, 0, 0, 0, 0, 0, 0, 0, 0, 0, 0, 0, 0, 0, 0, 0, 0, 0, 0, 0, 0, 0, 0, 0, 0, 0, 0, 0, 0, 0, 0, 0, 0, 0, 0, 0, 0, 0, 0, 0, 0, 0, 0, 0, 0, 0, 0, 0, 0, 0, 0, 0, 0, 0, 0, 0, 0, 0, 0, 0, 0, 0, 0, 0, 0, 0, 0, 0, 0, 0, 0, 0, 0, 0, 0, 0, 0, 0, 0, 0, 0, 0, 0, 0, 0, 0, 0, 0, 0, 0, 0, 0, 0, 0, 0, 0, 0, 0, 0, 0, 0, 0, 0, 0, 0, 0, 0, 0, 0, 0, 0, 0, 0, 0, 0, 0, 0, 0, 0, 0, 0, 0, 0, 0, 0, 0, 0, 0, 0, 0, 0, 0, 0, 0, 0, 0, 0, 0, 0, 0, 0, 0, 0, 0, 0, 0, 0, 0, 0, 0, 0, 0, 0, 0, 0, 0, 0, 0, 0, 0, 0, 0, 0, 0, 0, 0, 0, 0, 0, 0, 0, 0, 0, 0, 0, 0, 0, 0, 0, 0, 0, 0, 0, 0, 0, 0, 0, 0, 0, 0, 0, 0, 0, 0, 0, 0, 0, 0, 0, 0, 0, 0, 0, 0, 0, 0, 0, 0, 0, 0, 0, 0, 0, 0, 0, 0, 0, 0, 0, 0, 0, 0, 0, 0, 0, 0, 0, 0, 0, 0, 0, 0, 0, 0, 0, 0, 0, 0, 0, 0, 0, 0, 0, 0, 0, 0, 0, 0, 0, 0, 0, 0, 0, 0, 0, 0, 0, 0, 0, 0, 0, 0, 0, 0, 0, 0, 0, 0, 0, 0, 0, 0, 0, 0, 0, 0, 0, 0, 0, 0, 0, 0, 0, 0, 0, 0, 0, 0, 0, 0, 0, 0, 0, 0, 0, 0, 0, 0, 0, 0, 0, 0, 0, 0, 0, 0, 0, 0, 0, 0, 0, 0, 0, 0, 0, 0, 0, 0, 0, 0, 0, 0, 0, 0, 0, 0, 0, 0, 0, 0, 0, 0, 0, 0, 0, 0, 0, 0, 0, 0, 0, 0, 0, 0, 0, 0, 0, 0, 0, 0, 0, 0, 0, 0, 0, 0, 0, 0, 0, 0, 0, 0, 0, 0, 0, 0, 0, 0, 0, 0, 0, 0, 0, 0, 0, 0, 0, 0, 0, 0, 0, 0, 0, 0, 0, 0, 0, 0, 0, 0, 0, 0, 0, 0, 0, 0, 0, 0, 0, 0, 0, 0, 0, 0, 0, 0, 0, 0, 0, 0, 0, 0, 0, 0, 0, 0, 0, 0, 0, 0, 0, 0, 0, 0, 0, 0, 0, 0, 0, 0, 0, 0, 0, 0, 0, 0, 0, 0, 0, 0, 0, 0, 0, 0, 0, 0, 0, 0, 0, 0, 0, 0, 0, 0, 0, 0, 0, 0, 0, 0, 0, 0, 0, 0, 0, 0, 0, 0, 0, 0, 0, 0, 0, 0, 0, 0, 0, 0, 0, 0, 0, 0, 0, 0, 0, 0, 0, 0, 0, 0, 0, 0, 0, 0, 0, 0, 0, 0, 0, 0, 0, 0, 0, 0, 0, 0, 0, 0, 0, 0, 0, 0, 0, 0, 0, 0, 0, 0, 0, 0, 0, 0, 0, 0, 0, 0, 0, 0, 0, 0, 0, 0, 0, 0, 0, 0, 0, 0, 0, 0, 0, 0, 0, 0, 0, 0, 0, 0, 0, 0, 0, 0, 0, 0, 0, 0, 0, 0, 0, 0, 0, 0, 0, 0, 0, 0, 0, 0, 0, 0, 0, 0, 0, 0, 0, 0, 0, 0, 0, 0, 0, 0, 0, 0, 0, 0, 0, 0, 0, 0, 0, 0, 0, 0, 0, 0, 0, 0, 0, 0, 0, 0, 0, 0, 0, 0, 0, 0, 0, 0, 0, 0, 0, 0, 0, 0, 0, 0, 0, 0, 0, 0, 0, 0, 0, 0, 0, 0, 0, 0, 0, 0, 0, 0, 0, 0, 0, 0, 0, 0, 0, 0, 0, 0, 0, 0, 0, 0, 0, 0, 0, 0, 0, 0, 0, 0, 0, 0, 0, 0, 0, 0, 0, 0, 1, 1, 28792, 16289, 28793, 2012, 16816, 1250, 264, 11308, 3829, 15146, 11429, 477, 521, 1356, 2330, 2245, 28723, 13, 28093, 288, 272, 12493, 3857, 28725, 9131, 544, 272, 2629, 2815, 368, 541, 1300, 297, 272, 2245, 28723, 13, 13, 7435, 28747, 13, 28732, 14537, 8069, 1028, 9572, 28792, 896, 6314, 28735, 2431, 28735, 11379, 28732, 2028, 2540, 28731, 13, 28732, 14537, 8069, 1028, 9572, 28792, 1851, 28730, 1574, 26172, 28730, 10907, 11379, 28732, 4917, 28724, 28731, 13, 28732, 14537, 8069, 1028, 9572, 28792, 28749, 8785, 1906, 28730, 3957, 11379, 28732, 6982, 28731, 13, 28732, 18069, 1018, 9572, 28792, 3701, 832, 4989, 12466, 28730, 9732, 11379, 28732, 14537, 8069, 1028, 28731, 13, 28732, 14537, 8069, 1028, 9572, 28792, 28790, 2185, 1906, 28730, 832, 11379, 28732, 18069, 1018, 28731, 13, 28732, 18069, 1018, 9572, 28792, 14329, 725, 12466, 28730, 3957, 11379, 28732, 20629, 6267, 28731, 13, 28732, 14537, 8069, 1028, 9572, 28792, 8548, 28790, 2255, 28730, 832, 11379, 28732, 20629, 6267, 28731, 13, 28732, 18069, 1018, 9572, 28792, 1336, 1086, 28735, 28730, 21646, 11379, 28732, 22210, 28731, 13, 13, 15423, 460, 741, 9254, 28747, 13, 2083, 28747, 13, 28739, 1163, 288, 582, 3154, 28725, 478, 506, 272, 3296, 28733, 1769, 28733, 1237, 28733, 1402, 4009, 356, 4875, 15384, 28750, 28783, 28734, 28781, 28733, 28740, 28740, 28781, 28725, 690, 14685, 395, 1665, 304, 1862, 3058, 6933, 28723, 851, 4875, 659, 264, 1043, 1274, 302, 12439, 734, 28725, 2490, 9360, 2332, 326, 2047, 28725, 1054, 3679, 393, 1009, 27526, 28725, 7149, 13870, 27528, 28725, 3189, 16015, 263, 28725, 15444, 13091, 308, 6019, 28725, 9142, 13343, 555, 28724, 28725, 475, 1327, 382, 1292, 1294, 28725, 304, 11074, 28863, 28714, 420, 8017, 282, 3026, 28723, 20066, 15013, 286, 354, 680, 4162, 390, 590, 26061, 2781, 13, 13, 24958, 286, 9982, 2815, 28747, 13, 28732, 28713, 28740, 28781, 28734, 28734, 28733, 28740, 28740, 28781, 28731, 387, 733, 1336, 1086, 28735, 28730, 21646, 28793, 3193, 325, 2028, 304, 1862, 3058, 6933, 28731, 13, 28732, 2176, 28750, 28783, 28734, 28781, 28733, 28740, 28740, 28781, 28731, 387, 733, 3701, 832, 4989, 12466, 28730, 9732, 28793, 3193, 325, 28755, 2474, 2332, 326, 2047, 1143, 13, 28732, 2176, 28750, 28783, 28734, 28781, 28733, 28740, 28740, 28781, 28731, 387, 733, 3701, 832, 4989, 12466, 28730, 9732, 28793, 3193, 325, 28828, 3679, 393, 1009, 27526, 28731, 13, 28732, 2176, 28750, 28783, 28734, 28781, 28733, 28740, 28740, 28781, 28731, 387, 733, 3701, 832, 4989, 12466, 28730, 9732, 28793, 3193, 325, 28755, 1061, 13870, 27528, 28731, 13, 28732, 2176, 28750, 28783, 28734, 28781, 28733, 28740, 28740, 28781, 28731, 387, 733, 3701, 832, 4989, 12466, 28730, 9732, 28793, 3193, 325, 6017, 16015, 263, 28731, 13, 28732, 2176, 28750, 28783, 28734, 28781, 28733, 28740, 28740, 28781, 28731, 387, 733, 3701, 832, 4989, 12466, 28730, 9732, 28793, 3193, 325, 2707, 276, 13091, 308, 6019, 28731, 13, 28732, 2176, 28750, 28783, 28734, 28781, 28733, 28740, 28740, 28781, 28731, 387, 733, 3701, 832, 4989, 12466, 28730, 9732, 28793, 3193, 325, 28755, 6527, 13343, 555, 28724, 28731, 13, 28732, 2176, 28750, 28783, 28734, 28781, 28733, 28740, 28740, 28781, 28731, 387, 733, 3701, 832, 4989, 12466, 28730, 9732, 28793, 3193, 325, 28798, 1327, 382, 1292, 1294, 28731, 13, 28732, 2176, 28750, 28783, 28734, 28781, 28733, 28740, 28740, 28781, 28731, 387, 733, 3701, 832, 4989, 12466, 28730, 9732, 28793, 3193, 325, 28754, 28708, 28863, 28714, 420, 8017, 282, 3026, 28731, 13, 28732, 2176, 28750, 28783, 28734, 28781, 28733, 28740, 28740, 28781, 28731, 387, 733, 3701, 832, 4989, 12466, 28730, 9732, 28793, 3193, 325, 28828, 3679, 393, 1009, 27526, 28731, 13, 28732, 2176, 28750, 28783, 28734, 28781, 28733, 28740, 28740, 28781, 28731, 387, 733, 3701, 832, 4989, 12466, 28730, 9732, 28793, 3193, 325, 28755, 2474, 2332, 326, 2047, 1143, 13, 28732, 2176, 28750, 28783, 28734, 28781, 28733, 28740, 28740, 28781, 28731, 387, 733, 3701, 832, 4989, 12466, 28730, 9732, 28793, 3193, 325, 28755, 1061, 13870, 27528, 28731, 13, 28732, 2176, 28750, 28783, 28734, 28781, 28733, 28740, 28740, 28781, 28731, 387, 733, 3701, 832, 4989, 12466, 28730, 9732, 28793, 3193, 325, 28755, 6527, 13343, 555, 28724, 28731, 13, 28732, 2176, 28750, 28783, 28734, 28781, 28733, 28740, 28740, 28781, 28731, 387, 733, 3701, 832, 4989, 12466, 28730, 9732, 28793, 3193, 325, 28754, 28708, 28863, 28714, 420, 8017, 282, 3026, 28731, 13, 28732, 2176, 28750, 28783, 28734, 28781, 28733, 28740, 28740, 28781, 28731, 387, 733, 3701, 832, 4989, 12466, 28730, 9732, 28793, 3193, 325, 28798, 1327, 382, 1292, 1294, 28731, 13, 28732, 2176, 28750, 28783, 28734, 28781, 28733, 28740, 28740, 28781, 28731, 387, 733, 3701, 832, 4989, 12466, 28730, 9732, 28793, 3193, 325, 2707, 276, 13091, 308, 6019, 28731, 13, 28732, 2176, 28750, 28783, 28734, 28781, 28733, 28740, 28740, 28781, 28731, 387, 733, 3701, 832, 4989, 12466, 28730, 9732, 28793, 3193, 325, 6017, 16015, 263, 28731, 13, 28732, 2176, 28750, 28783, 28734, 28781, 28733, 28740, 28740, 28781, 28731, 387, 733, 1336, 1086, 28735, 28730, 21646, 28793, 3193, 325, 2028, 304, 1862, 3058, 6933, 28731, 13, 22843, 13, 2083, 28747, 13, 28739, 4781, 2044, 1197, 2740, 563, 15128, 1294, 399, 770, 28727, 5786, 5915, 1269, 1335, 8063, 390, 272, 11150, 12439, 271, 302, 1712, 16843, 297, 272, 4594, 28747, 15384, 28750, 28784, 28770, 28782, 28733, 28740, 28740, 28781, 28725, 15384, 28781, 28781, 28782, 28782, 28733, 28740, 28740, 28781, 28725, 304, 15384, 28782, 28750, 28750, 28774, 28733, 28740, 28740, 28781, 28723, 415, 12294, 15405, 1028, 295, 2014, 477, 272, 2556, 4157, 17542, 325, 2109, 28731, 304, 659, 750, 11401, 298, 272, 4594, 302, 17891, 5087, 28723, 14862, 1250, 264, 4292, 302, 272, 12294, 6636, 28725, 399, 770, 28727, 5786, 403, 835, 5915, 7298, 297, 272, 4594, 486, 8828, 2984, 5507, 753, 8885, 2984, 2035, 304, 23285, 318, 2892, 25062, 28723, 4023, 318, 2892, 25062, 10651, 6247, 28725, 630, 659, 750, 11401, 298, 272, 4594, 304, 349, 459, 11795, 601, 395, 707, 4150, 611, 13, 13, 24958, 286, 9982, 2815, 28747, 13, 28732, 28758, 16224, 318, 2892, 25062, 28731, 387, 733, 896, 6314, 28735, 2431, 28735, 28793, 3193, 325, 5194, 28731, 13, 28732, 28758, 16224, 318, 2892, 25062, 28731, 387, 733, 28749, 8785, 1906, 28730, 3957, 28793, 3193, 325, 28769, 1284, 28731, 13, 28732, 28796, 269, 2984, 2035, 28731, 387, 733, 896, 6314, 28735, 2431, 28735, 28793, 3193, 325, 5194, 28731, 13, 28732, 28796, 269, 2984, 2035, 28731, 387, 733, 1851, 28730, 1574, 26172, 28730, 10907, 28793, 3193, 325, 4781, 651, 276, 28731, 13, 28732, 28796, 269, 2984, 2035, 28731, 387, 733, 28749, 8785, 1906, 28730, 3957, 28793, 3193, 325, 28769, 1284, 28731, 13, 28732, 7118, 563, 15128, 1294, 399, 770, 28727, 5786, 28731, 387, 733, 896, 6314, 28735, 2431, 28735, 28793, 3193, 325, 2109, 28731, 13, 28732, 7118, 563, 15128, 1294, 399, 770, 28727, 5786, 28731, 387, 733, 1851, 28730, 1574, 26172, 28730, 10907, 28793, 3193, 325, 4781, 651, 276, 28731, 13, 28732, 7118, 563, 15128, 1294, 399, 770, 28727, 5786, 28731, 387, 733, 28749, 8785, 1906, 28730, 3957, 28793, 3193, 325, 28769, 1284, 28731, 13, 28732, 2176, 28750, 28784, 28770, 28782, 28733, 28740, 28740, 28781, 28731, 387, 733, 3701, 832, 4989, 12466, 28730, 9732, 28793, 3193, 325, 7118, 563, 15128, 1294, 399, 770, 28727, 5786, 28731, 13, 28732, 2176, 28750, 28784, 28770, 28782, 28733, 28740, 28740, 28781, 28731, 387, 733, 3701, 832, 4989, 12466, 28730, 9732, 28793, 3193, 325, 7118, 563, 15128, 1294, 399, 770, 28727, 5786, 28731, 13, 28732, 2176, 28781, 28781, 28782, 28782, 28733, 28740, 28740, 28781, 28731, 387, 733, 3701, 832, 4989, 12466, 28730, 9732, 28793, 3193, 325, 7118, 563, 15128, 1294, 399, 770, 28727, 5786, 28731, 13, 28732, 2176, 28781, 28781, 28782, 28782, 28733, 28740, 28740, 28781, 28731, 387, 733, 3701, 832, 4989, 12466, 28730, 9732, 28793, 3193, 325, 7118, 563, 15128, 1294, 399, 770, 28727, 5786, 28731, 13, 28732, 2176, 28782, 28750, 28750, 28774, 28733, 28740, 28740, 28781, 28731, 387, 733, 3701, 832, 4989, 12466, 28730, 9732, 28793, 3193, 325, 7118, 563, 15128, 1294, 399, 770, 28727, 5786, 28731, 13, 28732, 2176, 28782, 28750, 28750, 28774, 28733, 28740, 28740, 28781, 28731, 387, 733, 3701, 832, 4989, 12466, 28730, 9732, 28793, 3193, 325, 7118, 563, 15128, 1294, 399, 770, 28727, 5786, 28731, 13, 22843, 13, 2083, 28747, 13, 28739, 348, 15774, 745, 7982, 356, 272, 399, 864, 348, 13, 7516, 8924, 734, 28725, 16843, 268, 28740, 28770, 28774, 28733, 28740, 28740, 28781, 28725, 15384, 28770, 28787, 28750, 28774, 28733, 28740, 28740, 28781, 28725, 15384, 28750, 28774, 28750, 28740, 28733, 28740, 28740, 28781, 28725, 268, 28750, 28770, 28783, 28750, 28733, 28740, 28740, 28781, 28725, 304, 15384, 28740, 28774, 28750, 28782, 28733, 28740, 28740, 28781, 460, 544, 9045, 356, 624, 2278, 9067, 28747, 5714, 3332, 28723, 2326, 579, 1188, 4501, 1250, 5907, 298, 456, 13040, 1834, 28725, 378, 28742, 28713, 3081, 369, 813, 3437, 2528, 349, 2526, 1170, 8918, 821, 2270, 611, 13, 13, 24958, 286, 9982, 2815, 28747, 13, 28732, 28713, 28740, 28770, 28774, 28733, 28740, 28740, 28781, 28731, 387, 733, 1336, 1086, 28735, 28730, 21646, 28793, 3193, 325, 15774, 745, 3332, 28731, 13, 28732, 2176, 28770, 28787, 28750, 28774, 28733, 28740, 28740, 28781, 28731, 387, 733, 1336, 1086, 28735, 28730, 21646, 28793, 3193, 325, 15774, 745, 3332, 28731, 13, 28732, 2176, 28750, 28774, 28750, 28740, 28733, 28740, 28740, 28781, 28731, 387, 733, 1336, 1086, 28735, 28730, 21646, 28793, 3193, 325, 15774, 745, 3332, 28731, 13, 28732, 28713, 28750, 28770, 28783, 28750, 28733, 28740, 28740, 28781, 28731, 387, 733, 1336, 1086, 28735, 28730, 21646, 28793, 3193, 325, 15774, 745, 3332, 28731, 13, 28732, 2176, 28740, 28774, 28750, 28782, 28733, 28740, 28740, 28781, 28731, 387, 733, 1336, 1086, 28735, 28730, 21646, 28793, 3193, 325, 15774, 745, 3332, 28731, 13, 22843, 13, 2083, 13, 28739, 28760, 2767, 737, 272, 15384, 28782, 28783, 28770, 28770, 28733, 28740, 28740, 28781, 28725, 15384, 28781, 28734, 28770, 28784, 28733, 28740, 28740, 28781, 28725, 15384, 28784, 28770, 28740, 28740, 28733, 28740, 28740, 28781, 28725, 268, 28740, 28774, 28740, 28734, 28733, 28740, 28740, 28781, 28725, 15384, 28750, 28783, 28784, 28781, 28733, 28740, 28740, 28781, 28725, 15384, 28750, 28774, 28740, 28734, 28733, 28740, 28740, 28781, 28725, 304, 268, 28750, 28784, 28782, 28774, 28733, 28740, 28740, 28781, 544, 3215, 395, 12507, 25251, 15251, 611, 28792, 28748, 16289, 28793, 13, 13, 24958, 286, 9982, 2815, 28747, 13, 28732, 2176, 28782, 28783, 28770, 28770, 28733, 28740, 28740, 28781, 28731, 387, 733, 1336, 1086, 28735, 28730, 21646, 28793, 3193, 325, 15827, 282, 25251, 15251, 28731, 13, 28732, 2176, 28781, 28734, 28770, 28784, 28733, 28740, 28740, 28781, 28731, 387, 733, 1336, 1086, 28735, 28730, 21646, 28793, 3193, 325, 15827, 282, 25251, 15251, 28731, 13, 28732, 2176, 28784, 28770, 28740, 28740, 28733, 28740, 28740, 28781, 28731, 387, 733, 1336, 1086, 28735, 28730, 21646, 28793, 3193, 325, 15827, 282, 25251, 15251, 28731, 13, 28732, 28713, 28740, 28774, 28740, 28734, 28733, 28740, 28740, 28781, 28731, 387, 733, 1336, 1086, 28735, 28730, 21646, 28793, 3193, 325, 15827, 282, 25251, 15251, 28731, 13, 28732, 2176, 28750, 28783, 28784, 28781, 28733, 28740, 28740, 28781, 28731, 387, 733, 1336, 1086, 28735, 28730, 21646, 28793, 3193, 325, 15827, 282, 25251, 15251, 28731, 13, 28732, 2176, 28750, 28774, 28740, 28734, 28733, 28740, 28740, 28781, 28731, 387, 733, 1336, 1086, 28735, 28730, 21646, 28793, 3193, 325, 15827, 282, 25251, 15251, 28731, 13, 28732, 28713, 28750, 28784, 28782, 28774, 28733, 28740, 28740, 28781, 28731, 387, 733, 1336, 1086, 28735, 28730, 21646, 28793, 3193, 325, 15827, 282, 25251, 15251, 28731, 2]\n"
          ]
        }
      ],
      "source": [
        "# Print an example of the tokenized_data\n",
        "# The initial \"0\"s are the unk_token used for padding to the left.\n",
        "# The ending \"2\" corresponds to the eos_token\n",
        "print(tokenized_train_dataset[0]['input_ids'])"
      ]
    },
    {
      "cell_type": "code",
      "execution_count": null,
      "metadata": {
        "id": "yuDGJUI2PeNb",
        "outputId": "f50d0f3c-7277-49ab-f2d9-dcbc84f8d1d2"
      },
      "outputs": [
        {
          "name": "stdout",
          "output_type": "stream",
          "text": [
            "3072\n"
          ]
        }
      ],
      "source": [
        "# The max length has been correctly set to 3072\n",
        "print(len(tokenized_train_dataset[0]['input_ids']))"
      ]
    },
    {
      "cell_type": "markdown",
      "metadata": {
        "id": "tByn-OW3PeNb"
      },
      "source": [
        "# Set up QLoRA\n",
        "These are exactly the same cells."
      ]
    },
    {
      "cell_type": "code",
      "execution_count": null,
      "metadata": {
        "id": "cy5vQ_KNPeNc"
      },
      "outputs": [],
      "source": [
        "from peft import prepare_model_for_kbit_training\n",
        "\n",
        "model.gradient_checkpointing_enable()\n",
        "model = prepare_model_for_kbit_training(model)"
      ]
    },
    {
      "cell_type": "code",
      "execution_count": null,
      "metadata": {
        "id": "jWRpNKmRPeNc",
        "outputId": "96c0e1e4-3505-48be-a8c4-6ef400581ec5"
      },
      "outputs": [
        {
          "name": "stdout",
          "output_type": "stream",
          "text": [
            "MistralForCausalLM(\n",
            "  (model): MistralModel(\n",
            "    (embed_tokens): Embedding(32000, 4096)\n",
            "    (layers): ModuleList(\n",
            "      (0-31): 32 x MistralDecoderLayer(\n",
            "        (self_attn): MistralAttention(\n",
            "          (q_proj): Linear4bit(in_features=4096, out_features=4096, bias=False)\n",
            "          (k_proj): Linear4bit(in_features=4096, out_features=1024, bias=False)\n",
            "          (v_proj): Linear4bit(in_features=4096, out_features=1024, bias=False)\n",
            "          (o_proj): Linear4bit(in_features=4096, out_features=4096, bias=False)\n",
            "          (rotary_emb): MistralRotaryEmbedding()\n",
            "        )\n",
            "        (mlp): MistralMLP(\n",
            "          (gate_proj): Linear4bit(in_features=4096, out_features=14336, bias=False)\n",
            "          (up_proj): Linear4bit(in_features=4096, out_features=14336, bias=False)\n",
            "          (down_proj): Linear4bit(in_features=14336, out_features=4096, bias=False)\n",
            "          (act_fn): SiLU()\n",
            "        )\n",
            "        (input_layernorm): MistralRMSNorm((4096,), eps=1e-05)\n",
            "        (post_attention_layernorm): MistralRMSNorm((4096,), eps=1e-05)\n",
            "      )\n",
            "    )\n",
            "    (norm): MistralRMSNorm((4096,), eps=1e-05)\n",
            "  )\n",
            "  (lm_head): Linear(in_features=4096, out_features=32000, bias=False)\n",
            ")\n"
          ]
        }
      ],
      "source": [
        "# Print the model\n",
        "print(model)"
      ]
    },
    {
      "cell_type": "markdown",
      "metadata": {
        "id": "8dmEi9o2PeNc"
      },
      "source": [
        "We will apply QLoRA to all the linear layers: `q_proj`, `k_proj`, `v_proj`, `o_proj`, `gate_proj`, `up_proj`, `down_proj`, and `lm_head`."
      ]
    },
    {
      "cell_type": "code",
      "execution_count": null,
      "metadata": {
        "id": "Ex-1y0AmPeNd"
      },
      "outputs": [],
      "source": [
        "# We will apply QLoRA to all the linear layers:\n",
        "linear_layers = [\n",
        "    \"q_proj\",\n",
        "    \"k_proj\",\n",
        "    \"v_proj\",\n",
        "    \"o_proj\",\n",
        "    \"gate_proj\",\n",
        "    \"up_proj\",\n",
        "    \"down_proj\",\n",
        "    \"lm_head\",\n",
        "]"
      ]
    },
    {
      "cell_type": "code",
      "execution_count": null,
      "metadata": {
        "id": "EGWiqfBSPeNd"
      },
      "outputs": [],
      "source": [
        "from peft import LoraConfig, get_peft_model\n",
        "\n",
        "config = LoraConfig(\n",
        "    r=8,\n",
        "    lora_alpha=16,\n",
        "    target_modules = linear_layers,\n",
        "    #bias=\"none\",\n",
        "    lora_dropout=0.05,  # In QLoRa paper\n",
        "    task_type=\"CAUSAL_LM\",\n",
        ")\n",
        "\n",
        "model = get_peft_model(model, config)"
      ]
    },
    {
      "cell_type": "code",
      "execution_count": null,
      "metadata": {
        "id": "OgAvCPuXPeNd",
        "outputId": "214771a1-891d-42ca-a41b-4b8cef64e03e"
      },
      "outputs": [
        {
          "name": "stdout",
          "output_type": "stream",
          "text": [
            "trainable params: 21260288 || all params: 3773331456 || trainable%: 0.5634354746703705\n"
          ]
        }
      ],
      "source": [
        "# How many trainable parameters do we have?\n",
        "trainable_params = 0\n",
        "all_param = 0\n",
        "for _, param in model.named_parameters():\n",
        "    all_param += param.numel()\n",
        "    if param.requires_grad:\n",
        "        trainable_params += param.numel()\n",
        "print(\n",
        "    f\"trainable params: {trainable_params} || all params: {all_param} || trainable%: {100 * trainable_params / all_param}\"\n",
        ")"
      ]
    },
    {
      "cell_type": "markdown",
      "metadata": {
        "id": "213hOHegPeNd"
      },
      "source": [
        "## Train the Model"
      ]
    },
    {
      "cell_type": "code",
      "execution_count": null,
      "metadata": {
        "id": "RZkKJqMqPeNd",
        "outputId": "16f51453-0d6b-4c6f-e369-81d2f78ef07f"
      },
      "outputs": [
        {
          "name": "stderr",
          "output_type": "stream",
          "text": [
            "max_steps is given, it will override any value given in num_train_epochs\n"
          ]
        },
        {
          "data": {
            "text/html": [
              "\n",
              "    <div>\n",
              "      \n",
              "      <progress value='401' max='1000' style='width:300px; height:20px; vertical-align: middle;'></progress>\n",
              "      [ 401/1000 5:38:37 < 8:28:20, 0.02 it/s, Epoch 1.33/4]\n",
              "    </div>\n",
              "    <table border=\"1\" class=\"dataframe\">\n",
              "  <thead>\n",
              " <tr style=\"text-align: left;\">\n",
              "      <th>Step</th>\n",
              "      <th>Training Loss</th>\n",
              "      <th>Validation Loss</th>\n",
              "    </tr>\n",
              "  </thead>\n",
              "  <tbody>\n",
              "    <tr>\n",
              "      <td>50</td>\n",
              "      <td>0.942300</td>\n",
              "      <td>0.778176</td>\n",
              "    </tr>\n",
              "    <tr>\n",
              "      <td>100</td>\n",
              "      <td>0.712600</td>\n",
              "      <td>0.675742</td>\n",
              "    </tr>\n",
              "    <tr>\n",
              "      <td>150</td>\n",
              "      <td>0.640500</td>\n",
              "      <td>0.647505</td>\n",
              "    </tr>\n",
              "    <tr>\n",
              "      <td>200</td>\n",
              "      <td>0.606800</td>\n",
              "      <td>0.622850</td>\n",
              "    </tr>\n",
              "    <tr>\n",
              "      <td>250</td>\n",
              "      <td>0.567800</td>\n",
              "      <td>0.605893</td>\n",
              "    </tr>\n",
              "    <tr>\n",
              "      <td>300</td>\n",
              "      <td>0.533300</td>\n",
              "      <td>0.595291</td>\n",
              "    </tr>\n",
              "    <tr>\n",
              "      <td>350</td>\n",
              "      <td>0.484800</td>\n",
              "      <td>0.599950</td>\n",
              "    </tr>\n",
              "    <tr>\n",
              "      <td>400</td>\n",
              "      <td>0.460800</td>\n",
              "      <td>0.600457</td>\n",
              "    </tr>\n",
              "  </tbody>\n",
              "</table><p>"
            ],
            "text/plain": [
              "<IPython.core.display.HTML object>"
            ]
          },
          "metadata": {},
          "output_type": "display_data"
        },
        {
          "name": "stderr",
          "output_type": "stream",
          "text": [
            "/usr/local/lib/python3.10/dist-packages/peft/utils/save_and_load.py:227: UserWarning: Setting `save_embedding_layers` to `True` as embedding layers found in `target_modules`.\n",
            "  warnings.warn(\"Setting `save_embedding_layers` to `True` as embedding layers found in `target_modules`.\")\n",
            "/usr/local/lib/python3.10/dist-packages/peft/utils/save_and_load.py:227: UserWarning: Setting `save_embedding_layers` to `True` as embedding layers found in `target_modules`.\n",
            "  warnings.warn(\"Setting `save_embedding_layers` to `True` as embedding layers found in `target_modules`.\")\n",
            "/usr/local/lib/python3.10/dist-packages/peft/utils/save_and_load.py:227: UserWarning: Setting `save_embedding_layers` to `True` as embedding layers found in `target_modules`.\n",
            "  warnings.warn(\"Setting `save_embedding_layers` to `True` as embedding layers found in `target_modules`.\")\n",
            "/usr/local/lib/python3.10/dist-packages/peft/utils/save_and_load.py:227: UserWarning: Setting `save_embedding_layers` to `True` as embedding layers found in `target_modules`.\n",
            "  warnings.warn(\"Setting `save_embedding_layers` to `True` as embedding layers found in `target_modules`.\")\n",
            "/usr/local/lib/python3.10/dist-packages/peft/utils/save_and_load.py:227: UserWarning: Setting `save_embedding_layers` to `True` as embedding layers found in `target_modules`.\n",
            "  warnings.warn(\"Setting `save_embedding_layers` to `True` as embedding layers found in `target_modules`.\")\n",
            "/usr/local/lib/python3.10/dist-packages/peft/utils/save_and_load.py:227: UserWarning: Setting `save_embedding_layers` to `True` as embedding layers found in `target_modules`.\n",
            "  warnings.warn(\"Setting `save_embedding_layers` to `True` as embedding layers found in `target_modules`.\")\n",
            "/usr/local/lib/python3.10/dist-packages/peft/utils/save_and_load.py:227: UserWarning: Setting `save_embedding_layers` to `True` as embedding layers found in `target_modules`.\n",
            "  warnings.warn(\"Setting `save_embedding_layers` to `True` as embedding layers found in `target_modules`.\")\n",
            "/usr/local/lib/python3.10/dist-packages/peft/utils/save_and_load.py:227: UserWarning: Setting `save_embedding_layers` to `True` as embedding layers found in `target_modules`.\n",
            "  warnings.warn(\"Setting `save_embedding_layers` to `True` as embedding layers found in `target_modules`.\")\n"
          ]
        },
        {
          "ename": "KeyboardInterrupt",
          "evalue": "",
          "output_type": "error",
          "traceback": [
            "\u001b[0;31m---------------------------------------------------------------------------\u001b[0m",
            "\u001b[0;31mKeyboardInterrupt\u001b[0m                         Traceback (most recent call last)",
            "Cell \u001b[0;32mIn[22], line 35\u001b[0m\n\u001b[1;32m     33\u001b[0m \u001b[38;5;66;03m# Silence the warnings\u001b[39;00m\n\u001b[1;32m     34\u001b[0m model\u001b[38;5;241m.\u001b[39mconfig\u001b[38;5;241m.\u001b[39muse_cache \u001b[38;5;241m=\u001b[39m \u001b[38;5;28;01mFalse\u001b[39;00m\n\u001b[0;32m---> 35\u001b[0m \u001b[43mtrainer\u001b[49m\u001b[38;5;241;43m.\u001b[39;49m\u001b[43mtrain\u001b[49m\u001b[43m(\u001b[49m\u001b[43m)\u001b[49m\n",
            "File \u001b[0;32m/usr/local/lib/python3.10/dist-packages/transformers/trainer.py:1991\u001b[0m, in \u001b[0;36mTrainer.train\u001b[0;34m(self, resume_from_checkpoint, trial, ignore_keys_for_eval, **kwargs)\u001b[0m\n\u001b[1;32m   1989\u001b[0m         hf_hub_utils\u001b[38;5;241m.\u001b[39menable_progress_bars()\n\u001b[1;32m   1990\u001b[0m \u001b[38;5;28;01melse\u001b[39;00m:\n\u001b[0;32m-> 1991\u001b[0m     \u001b[38;5;28;01mreturn\u001b[39;00m \u001b[43minner_training_loop\u001b[49m\u001b[43m(\u001b[49m\n\u001b[1;32m   1992\u001b[0m \u001b[43m        \u001b[49m\u001b[43margs\u001b[49m\u001b[38;5;241;43m=\u001b[39;49m\u001b[43margs\u001b[49m\u001b[43m,\u001b[49m\n\u001b[1;32m   1993\u001b[0m \u001b[43m        \u001b[49m\u001b[43mresume_from_checkpoint\u001b[49m\u001b[38;5;241;43m=\u001b[39;49m\u001b[43mresume_from_checkpoint\u001b[49m\u001b[43m,\u001b[49m\n\u001b[1;32m   1994\u001b[0m \u001b[43m        \u001b[49m\u001b[43mtrial\u001b[49m\u001b[38;5;241;43m=\u001b[39;49m\u001b[43mtrial\u001b[49m\u001b[43m,\u001b[49m\n\u001b[1;32m   1995\u001b[0m \u001b[43m        \u001b[49m\u001b[43mignore_keys_for_eval\u001b[49m\u001b[38;5;241;43m=\u001b[39;49m\u001b[43mignore_keys_for_eval\u001b[49m\u001b[43m,\u001b[49m\n\u001b[1;32m   1996\u001b[0m \u001b[43m    \u001b[49m\u001b[43m)\u001b[49m\n",
            "File \u001b[0;32m/usr/local/lib/python3.10/dist-packages/transformers/trainer.py:2327\u001b[0m, in \u001b[0;36mTrainer._inner_training_loop\u001b[0;34m(self, batch_size, args, resume_from_checkpoint, trial, ignore_keys_for_eval)\u001b[0m\n\u001b[1;32m   2324\u001b[0m     \u001b[38;5;28mself\u001b[39m\u001b[38;5;241m.\u001b[39mcontrol \u001b[38;5;241m=\u001b[39m \u001b[38;5;28mself\u001b[39m\u001b[38;5;241m.\u001b[39mcallback_handler\u001b[38;5;241m.\u001b[39mon_step_begin(args, \u001b[38;5;28mself\u001b[39m\u001b[38;5;241m.\u001b[39mstate, \u001b[38;5;28mself\u001b[39m\u001b[38;5;241m.\u001b[39mcontrol)\n\u001b[1;32m   2326\u001b[0m \u001b[38;5;28;01mwith\u001b[39;00m \u001b[38;5;28mself\u001b[39m\u001b[38;5;241m.\u001b[39maccelerator\u001b[38;5;241m.\u001b[39maccumulate(model):\n\u001b[0;32m-> 2327\u001b[0m     tr_loss_step \u001b[38;5;241m=\u001b[39m \u001b[38;5;28;43mself\u001b[39;49m\u001b[38;5;241;43m.\u001b[39;49m\u001b[43mtraining_step\u001b[49m\u001b[43m(\u001b[49m\u001b[43mmodel\u001b[49m\u001b[43m,\u001b[49m\u001b[43m \u001b[49m\u001b[43minputs\u001b[49m\u001b[43m)\u001b[49m\n\u001b[1;32m   2329\u001b[0m \u001b[38;5;28;01mif\u001b[39;00m (\n\u001b[1;32m   2330\u001b[0m     args\u001b[38;5;241m.\u001b[39mlogging_nan_inf_filter\n\u001b[1;32m   2331\u001b[0m     \u001b[38;5;129;01mand\u001b[39;00m \u001b[38;5;129;01mnot\u001b[39;00m is_torch_xla_available()\n\u001b[1;32m   2332\u001b[0m     \u001b[38;5;129;01mand\u001b[39;00m (torch\u001b[38;5;241m.\u001b[39misnan(tr_loss_step) \u001b[38;5;129;01mor\u001b[39;00m torch\u001b[38;5;241m.\u001b[39misinf(tr_loss_step))\n\u001b[1;32m   2333\u001b[0m ):\n\u001b[1;32m   2334\u001b[0m     \u001b[38;5;66;03m# if loss is nan or inf simply add the average of previous logged losses\u001b[39;00m\n\u001b[1;32m   2335\u001b[0m     tr_loss \u001b[38;5;241m+\u001b[39m\u001b[38;5;241m=\u001b[39m tr_loss \u001b[38;5;241m/\u001b[39m (\u001b[38;5;241m1\u001b[39m \u001b[38;5;241m+\u001b[39m \u001b[38;5;28mself\u001b[39m\u001b[38;5;241m.\u001b[39mstate\u001b[38;5;241m.\u001b[39mglobal_step \u001b[38;5;241m-\u001b[39m \u001b[38;5;28mself\u001b[39m\u001b[38;5;241m.\u001b[39m_globalstep_last_logged)\n",
            "File \u001b[0;32m/usr/local/lib/python3.10/dist-packages/transformers/trainer.py:3452\u001b[0m, in \u001b[0;36mTrainer.training_step\u001b[0;34m(***failed resolving arguments***)\u001b[0m\n\u001b[1;32m   3450\u001b[0m         scaled_loss\u001b[38;5;241m.\u001b[39mbackward()\n\u001b[1;32m   3451\u001b[0m \u001b[38;5;28;01melse\u001b[39;00m:\n\u001b[0;32m-> 3452\u001b[0m     \u001b[38;5;28;43mself\u001b[39;49m\u001b[38;5;241;43m.\u001b[39;49m\u001b[43maccelerator\u001b[49m\u001b[38;5;241;43m.\u001b[39;49m\u001b[43mbackward\u001b[49m\u001b[43m(\u001b[49m\u001b[43mloss\u001b[49m\u001b[43m,\u001b[49m\u001b[43m \u001b[49m\u001b[38;5;241;43m*\u001b[39;49m\u001b[38;5;241;43m*\u001b[39;49m\u001b[43mkwargs\u001b[49m\u001b[43m)\u001b[49m\n\u001b[1;32m   3454\u001b[0m \u001b[38;5;28;01mreturn\u001b[39;00m loss\u001b[38;5;241m.\u001b[39mdetach() \u001b[38;5;241m/\u001b[39m \u001b[38;5;28mself\u001b[39m\u001b[38;5;241m.\u001b[39margs\u001b[38;5;241m.\u001b[39mgradient_accumulation_steps\n",
            "File \u001b[0;32m/usr/local/lib/python3.10/dist-packages/accelerate/accelerator.py:2196\u001b[0m, in \u001b[0;36mAccelerator.backward\u001b[0;34m(self, loss, **kwargs)\u001b[0m\n\u001b[1;32m   2194\u001b[0m     \u001b[38;5;28mself\u001b[39m\u001b[38;5;241m.\u001b[39mlomo_backward(loss, learning_rate)\n\u001b[1;32m   2195\u001b[0m \u001b[38;5;28;01melse\u001b[39;00m:\n\u001b[0;32m-> 2196\u001b[0m     \u001b[43mloss\u001b[49m\u001b[38;5;241;43m.\u001b[39;49m\u001b[43mbackward\u001b[49m\u001b[43m(\u001b[49m\u001b[38;5;241;43m*\u001b[39;49m\u001b[38;5;241;43m*\u001b[39;49m\u001b[43mkwargs\u001b[49m\u001b[43m)\u001b[49m\n",
            "File \u001b[0;32m/usr/local/lib/python3.10/dist-packages/torch/_tensor.py:492\u001b[0m, in \u001b[0;36mTensor.backward\u001b[0;34m(self, gradient, retain_graph, create_graph, inputs)\u001b[0m\n\u001b[1;32m    482\u001b[0m \u001b[38;5;28;01mif\u001b[39;00m has_torch_function_unary(\u001b[38;5;28mself\u001b[39m):\n\u001b[1;32m    483\u001b[0m     \u001b[38;5;28;01mreturn\u001b[39;00m handle_torch_function(\n\u001b[1;32m    484\u001b[0m         Tensor\u001b[38;5;241m.\u001b[39mbackward,\n\u001b[1;32m    485\u001b[0m         (\u001b[38;5;28mself\u001b[39m,),\n\u001b[0;32m   (...)\u001b[0m\n\u001b[1;32m    490\u001b[0m         inputs\u001b[38;5;241m=\u001b[39minputs,\n\u001b[1;32m    491\u001b[0m     )\n\u001b[0;32m--> 492\u001b[0m \u001b[43mtorch\u001b[49m\u001b[38;5;241;43m.\u001b[39;49m\u001b[43mautograd\u001b[49m\u001b[38;5;241;43m.\u001b[39;49m\u001b[43mbackward\u001b[49m\u001b[43m(\u001b[49m\n\u001b[1;32m    493\u001b[0m \u001b[43m    \u001b[49m\u001b[38;5;28;43mself\u001b[39;49m\u001b[43m,\u001b[49m\u001b[43m \u001b[49m\u001b[43mgradient\u001b[49m\u001b[43m,\u001b[49m\u001b[43m \u001b[49m\u001b[43mretain_graph\u001b[49m\u001b[43m,\u001b[49m\u001b[43m \u001b[49m\u001b[43mcreate_graph\u001b[49m\u001b[43m,\u001b[49m\u001b[43m \u001b[49m\u001b[43minputs\u001b[49m\u001b[38;5;241;43m=\u001b[39;49m\u001b[43minputs\u001b[49m\n\u001b[1;32m    494\u001b[0m \u001b[43m\u001b[49m\u001b[43m)\u001b[49m\n",
            "File \u001b[0;32m/usr/local/lib/python3.10/dist-packages/torch/autograd/__init__.py:251\u001b[0m, in \u001b[0;36mbackward\u001b[0;34m(tensors, grad_tensors, retain_graph, create_graph, grad_variables, inputs)\u001b[0m\n\u001b[1;32m    246\u001b[0m     retain_graph \u001b[38;5;241m=\u001b[39m create_graph\n\u001b[1;32m    248\u001b[0m \u001b[38;5;66;03m# The reason we repeat the same comment below is that\u001b[39;00m\n\u001b[1;32m    249\u001b[0m \u001b[38;5;66;03m# some Python versions print out the first line of a multi-line function\u001b[39;00m\n\u001b[1;32m    250\u001b[0m \u001b[38;5;66;03m# calls in the traceback and some print out the last line\u001b[39;00m\n\u001b[0;32m--> 251\u001b[0m \u001b[43mVariable\u001b[49m\u001b[38;5;241;43m.\u001b[39;49m\u001b[43m_execution_engine\u001b[49m\u001b[38;5;241;43m.\u001b[39;49m\u001b[43mrun_backward\u001b[49m\u001b[43m(\u001b[49m\u001b[43m  \u001b[49m\u001b[38;5;66;43;03m# Calls into the C++ engine to run the backward pass\u001b[39;49;00m\n\u001b[1;32m    252\u001b[0m \u001b[43m    \u001b[49m\u001b[43mtensors\u001b[49m\u001b[43m,\u001b[49m\n\u001b[1;32m    253\u001b[0m \u001b[43m    \u001b[49m\u001b[43mgrad_tensors_\u001b[49m\u001b[43m,\u001b[49m\n\u001b[1;32m    254\u001b[0m \u001b[43m    \u001b[49m\u001b[43mretain_graph\u001b[49m\u001b[43m,\u001b[49m\n\u001b[1;32m    255\u001b[0m \u001b[43m    \u001b[49m\u001b[43mcreate_graph\u001b[49m\u001b[43m,\u001b[49m\n\u001b[1;32m    256\u001b[0m \u001b[43m    \u001b[49m\u001b[43minputs\u001b[49m\u001b[43m,\u001b[49m\n\u001b[1;32m    257\u001b[0m \u001b[43m    \u001b[49m\u001b[43mallow_unreachable\u001b[49m\u001b[38;5;241;43m=\u001b[39;49m\u001b[38;5;28;43;01mTrue\u001b[39;49;00m\u001b[43m,\u001b[49m\n\u001b[1;32m    258\u001b[0m \u001b[43m    \u001b[49m\u001b[43maccumulate_grad\u001b[49m\u001b[38;5;241;43m=\u001b[39;49m\u001b[38;5;28;43;01mTrue\u001b[39;49;00m\u001b[43m,\u001b[49m\n\u001b[1;32m    259\u001b[0m \u001b[43m\u001b[49m\u001b[43m)\u001b[49m\n",
            "\u001b[0;31mKeyboardInterrupt\u001b[0m: "
          ]
        }
      ],
      "source": [
        "import transformers\n",
        "from datetime import datetime\n",
        "\n",
        "tokenizer.pad_token = tokenizer.unk_token\n",
        "\n",
        "t_args = transformers.TrainingArguments(\n",
        "    output_dir=\"Prova_FS\",\n",
        "    warmup_steps=5,\n",
        "    per_device_train_batch_size=2,\n",
        "    gradient_checkpointing=True,\n",
        "    gradient_accumulation_steps=4,\n",
        "    max_steps=1000,\n",
        "    learning_rate=2.5e-5, # Want about 10x smaller than the Mistral learning rate\n",
        "    logging_steps=50,\n",
        "    bf16=True,\n",
        "    optim=\"paged_adamw_8bit\",\n",
        "    logging_dir=\"./logs\",        # Directory for storing logs\n",
        "    save_strategy=\"steps\",       # Save the model checkpoint every logging step\n",
        "    save_steps=50,                # Save checkpoints every 50 steps\n",
        "    eval_strategy=\"steps\", # Evaluate the model every logging step\n",
        "    eval_steps=50               # Evaluate and save checkpoints every 50 steps\n",
        "    #do_eval=True,                # Perform evaluation at the end of training\n",
        ")\n",
        "\n",
        "trainer = transformers.Trainer(\n",
        "    model=model,\n",
        "    train_dataset=tokenized_train_dataset,\n",
        "    eval_dataset=tokenized_val_dataset,\n",
        "    args= t_args,\n",
        "    data_collator=transformers.DataCollatorForLanguageModeling(tokenizer, mlm=False),\n",
        ")\n",
        "\n",
        "# Silence the warnings\n",
        "model.config.use_cache = False\n",
        "trainer.train()"
      ]
    },
    {
      "cell_type": "markdown",
      "source": [
        "The error you see are given by the fact that I manually interrupted the training as the model began overfitting.<br>\n",
        "Furthermore, as you can see, the training of a model with these lengthier observations requires way more time (40 minutes for each 50 steps), and I do not have the resources to train it till the end."
      ],
      "metadata": {
        "id": "x21tiKz7QTKR"
      }
    }
  ],
  "metadata": {
    "kernelspec": {
      "display_name": "Python 3 (ipykernel)",
      "language": "python",
      "name": "python3"
    },
    "language_info": {
      "codemirror_mode": {
        "name": "ipython",
        "version": 3
      },
      "file_extension": ".py",
      "mimetype": "text/x-python",
      "name": "python",
      "nbconvert_exporter": "python",
      "pygments_lexer": "ipython3",
      "version": "3.11.9"
    },
    "colab": {
      "provenance": []
    }
  },
  "nbformat": 4,
  "nbformat_minor": 0
}